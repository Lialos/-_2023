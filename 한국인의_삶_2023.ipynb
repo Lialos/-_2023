{
 "cells": [
  {
   "cell_type": "code",
   "execution_count": 23,
   "id": "8cdbb614",
   "metadata": {},
   "outputs": [
    {
     "data": {
      "text/plain": [
       "0"
      ]
     },
     "execution_count": 23,
     "metadata": {},
     "output_type": "execute_result"
    }
   ],
   "source": [
    "import subprocess\n",
    "import sys\n",
    "\n",
    "# pip 업데이트\n",
    "subprocess.check_call([sys.executable, \"-m\", \"pip\", \"install\", \"--upgrade\", \"pip\"])"
   ]
  },
  {
   "cell_type": "code",
   "execution_count": 24,
   "id": "f560efc4",
   "metadata": {},
   "outputs": [
    {
     "data": {
      "text/plain": [
       "0"
      ]
     },
     "execution_count": 24,
     "metadata": {},
     "output_type": "execute_result"
    }
   ],
   "source": [
    "subprocess.check_call([sys.executable, \"-m\", \"pip\", \"install\", \"pyreadstat\"])"
   ]
  },
  {
   "cell_type": "code",
   "execution_count": 25,
   "id": "73122962",
   "metadata": {},
   "outputs": [],
   "source": [
    "#! pip install pyreadstat"
   ]
  },
  {
   "cell_type": "code",
   "execution_count": 26,
   "id": "a222fdf4-f2a9-4a51-9e53-3f1f6020bb23",
   "metadata": {},
   "outputs": [],
   "source": [
    "import pandas as pd\n",
    "import numpy as np\n",
    "import seaborn as sns"
   ]
  },
  {
   "cell_type": "code",
   "execution_count": 32,
   "id": "270b677c",
   "metadata": {},
   "outputs": [],
   "source": [
    "# 데이터 불러오기\n",
    "raw_welfare = pd.read_spss('D:/data/Koweps_hpda18_2023_beta1.sav')\n",
    "\n",
    "# 복사\n",
    "welfare = raw_welfare.copy()\n"
   ]
  },
  {
   "cell_type": "code",
   "execution_count": 36,
   "id": "78587331",
   "metadata": {},
   "outputs": [
    {
     "data": {
      "text/html": [
       "<div>\n",
       "<style scoped>\n",
       "    .dataframe tbody tr th:only-of-type {\n",
       "        vertical-align: middle;\n",
       "    }\n",
       "\n",
       "    .dataframe tbody tr th {\n",
       "        vertical-align: top;\n",
       "    }\n",
       "\n",
       "    .dataframe thead th {\n",
       "        text-align: right;\n",
       "    }\n",
       "</style>\n",
       "<table border=\"1\" class=\"dataframe\">\n",
       "  <thead>\n",
       "    <tr style=\"text-align: right;\">\n",
       "      <th></th>\n",
       "      <th>h18_id</th>\n",
       "      <th>h18_ind</th>\n",
       "      <th>h18_sn</th>\n",
       "      <th>h18_merkey</th>\n",
       "      <th>h_new</th>\n",
       "      <th>h_new1</th>\n",
       "      <th>h18_cobf</th>\n",
       "      <th>p18_wsc</th>\n",
       "      <th>p18_wsl</th>\n",
       "      <th>p18_wgc</th>\n",
       "      <th>...</th>\n",
       "      <th>da18_324</th>\n",
       "      <th>da18_325</th>\n",
       "      <th>da18_326</th>\n",
       "      <th>da18_327</th>\n",
       "      <th>da18_6aq14</th>\n",
       "      <th>h18_pers_income1</th>\n",
       "      <th>h18_pers_income2</th>\n",
       "      <th>h18_pers_income3</th>\n",
       "      <th>h18_pers_income4</th>\n",
       "      <th>h18_pers_income5</th>\n",
       "    </tr>\n",
       "  </thead>\n",
       "  <tbody>\n",
       "    <tr>\n",
       "      <th>count</th>\n",
       "      <td>15931.000000</td>\n",
       "      <td>15931.000000</td>\n",
       "      <td>15931.000000</td>\n",
       "      <td>1.593100e+04</td>\n",
       "      <td>15931.000000</td>\n",
       "      <td>15931.000000</td>\n",
       "      <td>130.000000</td>\n",
       "      <td>9775.000000</td>\n",
       "      <td>9775.000000</td>\n",
       "      <td>9775.000000</td>\n",
       "      <td>...</td>\n",
       "      <td>290.000000</td>\n",
       "      <td>955.000000</td>\n",
       "      <td>955.000000</td>\n",
       "      <td>791.000000</td>\n",
       "      <td>895.000000</td>\n",
       "      <td>2897.000000</td>\n",
       "      <td>4104.000000</td>\n",
       "      <td>1114.000000</td>\n",
       "      <td>15931.000000</td>\n",
       "      <td>914.000000</td>\n",
       "    </tr>\n",
       "    <tr>\n",
       "      <th>mean</th>\n",
       "      <td>6138.267591</td>\n",
       "      <td>6.927500</td>\n",
       "      <td>1.005147</td>\n",
       "      <td>6.138337e+07</td>\n",
       "      <td>0.154165</td>\n",
       "      <td>0.232252</td>\n",
       "      <td>2.453846</td>\n",
       "      <td>1.000000</td>\n",
       "      <td>1.000000</td>\n",
       "      <td>5281.648798</td>\n",
       "      <td>...</td>\n",
       "      <td>2.520690</td>\n",
       "      <td>7.431414</td>\n",
       "      <td>3.643979</td>\n",
       "      <td>1.271808</td>\n",
       "      <td>1.144134</td>\n",
       "      <td>4795.637211</td>\n",
       "      <td>1595.026316</td>\n",
       "      <td>3613.086176</td>\n",
       "      <td>3.498839</td>\n",
       "      <td>1293.448578</td>\n",
       "    </tr>\n",
       "    <tr>\n",
       "      <th>std</th>\n",
       "      <td>3640.121959</td>\n",
       "      <td>6.716206</td>\n",
       "      <td>0.138954</td>\n",
       "      <td>3.640171e+07</td>\n",
       "      <td>0.361118</td>\n",
       "      <td>0.422282</td>\n",
       "      <td>1.800566</td>\n",
       "      <td>0.671061</td>\n",
       "      <td>0.722643</td>\n",
       "      <td>3544.310475</td>\n",
       "      <td>...</td>\n",
       "      <td>1.352143</td>\n",
       "      <td>9.271598</td>\n",
       "      <td>0.768178</td>\n",
       "      <td>0.445173</td>\n",
       "      <td>0.351422</td>\n",
       "      <td>3049.613417</td>\n",
       "      <td>1667.525331</td>\n",
       "      <td>3922.906442</td>\n",
       "      <td>49.643006</td>\n",
       "      <td>1996.625847</td>\n",
       "    </tr>\n",
       "    <tr>\n",
       "      <th>min</th>\n",
       "      <td>2.000000</td>\n",
       "      <td>1.000000</td>\n",
       "      <td>1.000000</td>\n",
       "      <td>2.010100e+04</td>\n",
       "      <td>0.000000</td>\n",
       "      <td>0.000000</td>\n",
       "      <td>1.000000</td>\n",
       "      <td>0.009111</td>\n",
       "      <td>0.000000</td>\n",
       "      <td>48.118689</td>\n",
       "      <td>...</td>\n",
       "      <td>1.000000</td>\n",
       "      <td>0.000000</td>\n",
       "      <td>1.000000</td>\n",
       "      <td>1.000000</td>\n",
       "      <td>1.000000</td>\n",
       "      <td>0.000000</td>\n",
       "      <td>0.000000</td>\n",
       "      <td>-3640.000000</td>\n",
       "      <td>0.000000</td>\n",
       "      <td>-4702.000000</td>\n",
       "    </tr>\n",
       "    <tr>\n",
       "      <th>25%</th>\n",
       "      <td>2998.000000</td>\n",
       "      <td>1.000000</td>\n",
       "      <td>1.000000</td>\n",
       "      <td>2.998080e+07</td>\n",
       "      <td>0.000000</td>\n",
       "      <td>0.000000</td>\n",
       "      <td>1.000000</td>\n",
       "      <td>0.479451</td>\n",
       "      <td>0.446551</td>\n",
       "      <td>2532.294145</td>\n",
       "      <td>...</td>\n",
       "      <td>2.000000</td>\n",
       "      <td>2.000000</td>\n",
       "      <td>4.000000</td>\n",
       "      <td>1.000000</td>\n",
       "      <td>1.000000</td>\n",
       "      <td>2956.000000</td>\n",
       "      <td>300.000000</td>\n",
       "      <td>1200.000000</td>\n",
       "      <td>0.000000</td>\n",
       "      <td>247.500000</td>\n",
       "    </tr>\n",
       "    <tr>\n",
       "      <th>50%</th>\n",
       "      <td>5729.000000</td>\n",
       "      <td>4.000000</td>\n",
       "      <td>1.000000</td>\n",
       "      <td>5.729010e+07</td>\n",
       "      <td>0.000000</td>\n",
       "      <td>0.000000</td>\n",
       "      <td>2.000000</td>\n",
       "      <td>0.935209</td>\n",
       "      <td>0.865471</td>\n",
       "      <td>4939.443317</td>\n",
       "      <td>...</td>\n",
       "      <td>2.000000</td>\n",
       "      <td>5.000000</td>\n",
       "      <td>4.000000</td>\n",
       "      <td>1.000000</td>\n",
       "      <td>1.000000</td>\n",
       "      <td>4020.000000</td>\n",
       "      <td>1092.000000</td>\n",
       "      <td>2627.000000</td>\n",
       "      <td>0.000000</td>\n",
       "      <td>581.000000</td>\n",
       "    </tr>\n",
       "    <tr>\n",
       "      <th>75%</th>\n",
       "      <td>9592.000000</td>\n",
       "      <td>17.000000</td>\n",
       "      <td>1.000000</td>\n",
       "      <td>9.592070e+07</td>\n",
       "      <td>0.000000</td>\n",
       "      <td>0.000000</td>\n",
       "      <td>2.000000</td>\n",
       "      <td>1.383096</td>\n",
       "      <td>1.379557</td>\n",
       "      <td>7305.027838</td>\n",
       "      <td>...</td>\n",
       "      <td>2.000000</td>\n",
       "      <td>10.000000</td>\n",
       "      <td>4.000000</td>\n",
       "      <td>2.000000</td>\n",
       "      <td>1.000000</td>\n",
       "      <td>6035.000000</td>\n",
       "      <td>2400.000000</td>\n",
       "      <td>4990.000000</td>\n",
       "      <td>0.000000</td>\n",
       "      <td>1483.000000</td>\n",
       "    </tr>\n",
       "    <tr>\n",
       "      <th>max</th>\n",
       "      <td>12011.000000</td>\n",
       "      <td>18.000000</td>\n",
       "      <td>9.000000</td>\n",
       "      <td>1.201117e+08</td>\n",
       "      <td>1.000000</td>\n",
       "      <td>1.000000</td>\n",
       "      <td>7.000000</td>\n",
       "      <td>3.936318</td>\n",
       "      <td>3.116706</td>\n",
       "      <td>20790.249178</td>\n",
       "      <td>...</td>\n",
       "      <td>6.000000</td>\n",
       "      <td>168.000000</td>\n",
       "      <td>4.000000</td>\n",
       "      <td>2.000000</td>\n",
       "      <td>2.000000</td>\n",
       "      <td>61110.000000</td>\n",
       "      <td>31224.000000</td>\n",
       "      <td>45800.000000</td>\n",
       "      <td>3000.000000</td>\n",
       "      <td>19118.000000</td>\n",
       "    </tr>\n",
       "  </tbody>\n",
       "</table>\n",
       "<p>8 rows × 1154 columns</p>\n",
       "</div>"
      ],
      "text/plain": [
       "             h18_id       h18_ind        h18_sn    h18_merkey         h_new  \\\n",
       "count  15931.000000  15931.000000  15931.000000  1.593100e+04  15931.000000   \n",
       "mean    6138.267591      6.927500      1.005147  6.138337e+07      0.154165   \n",
       "std     3640.121959      6.716206      0.138954  3.640171e+07      0.361118   \n",
       "min        2.000000      1.000000      1.000000  2.010100e+04      0.000000   \n",
       "25%     2998.000000      1.000000      1.000000  2.998080e+07      0.000000   \n",
       "50%     5729.000000      4.000000      1.000000  5.729010e+07      0.000000   \n",
       "75%     9592.000000     17.000000      1.000000  9.592070e+07      0.000000   \n",
       "max    12011.000000     18.000000      9.000000  1.201117e+08      1.000000   \n",
       "\n",
       "             h_new1    h18_cobf      p18_wsc      p18_wsl       p18_wgc  ...  \\\n",
       "count  15931.000000  130.000000  9775.000000  9775.000000   9775.000000  ...   \n",
       "mean       0.232252    2.453846     1.000000     1.000000   5281.648798  ...   \n",
       "std        0.422282    1.800566     0.671061     0.722643   3544.310475  ...   \n",
       "min        0.000000    1.000000     0.009111     0.000000     48.118689  ...   \n",
       "25%        0.000000    1.000000     0.479451     0.446551   2532.294145  ...   \n",
       "50%        0.000000    2.000000     0.935209     0.865471   4939.443317  ...   \n",
       "75%        0.000000    2.000000     1.383096     1.379557   7305.027838  ...   \n",
       "max        1.000000    7.000000     3.936318     3.116706  20790.249178  ...   \n",
       "\n",
       "         da18_324    da18_325    da18_326    da18_327  da18_6aq14  \\\n",
       "count  290.000000  955.000000  955.000000  791.000000  895.000000   \n",
       "mean     2.520690    7.431414    3.643979    1.271808    1.144134   \n",
       "std      1.352143    9.271598    0.768178    0.445173    0.351422   \n",
       "min      1.000000    0.000000    1.000000    1.000000    1.000000   \n",
       "25%      2.000000    2.000000    4.000000    1.000000    1.000000   \n",
       "50%      2.000000    5.000000    4.000000    1.000000    1.000000   \n",
       "75%      2.000000   10.000000    4.000000    2.000000    1.000000   \n",
       "max      6.000000  168.000000    4.000000    2.000000    2.000000   \n",
       "\n",
       "       h18_pers_income1  h18_pers_income2  h18_pers_income3  h18_pers_income4  \\\n",
       "count       2897.000000       4104.000000       1114.000000      15931.000000   \n",
       "mean        4795.637211       1595.026316       3613.086176          3.498839   \n",
       "std         3049.613417       1667.525331       3922.906442         49.643006   \n",
       "min            0.000000          0.000000      -3640.000000          0.000000   \n",
       "25%         2956.000000        300.000000       1200.000000          0.000000   \n",
       "50%         4020.000000       1092.000000       2627.000000          0.000000   \n",
       "75%         6035.000000       2400.000000       4990.000000          0.000000   \n",
       "max        61110.000000      31224.000000      45800.000000       3000.000000   \n",
       "\n",
       "       h18_pers_income5  \n",
       "count        914.000000  \n",
       "mean        1293.448578  \n",
       "std         1996.625847  \n",
       "min        -4702.000000  \n",
       "25%          247.500000  \n",
       "50%          581.000000  \n",
       "75%         1483.000000  \n",
       "max        19118.000000  \n",
       "\n",
       "[8 rows x 1154 columns]"
      ]
     },
     "execution_count": 36,
     "metadata": {},
     "output_type": "execute_result"
    }
   ],
   "source": [
    "# 데이터 검토\n",
    "# welfare            # 앞부분, 뒤부분 확인 \n",
    "# welfare.shape      # 행/열의 개수 \n",
    "# welfare.info()     # 열의 속성 \n",
    "welfare.describe() # 요약통계"
   ]
  },
  {
   "cell_type": "code",
   "execution_count": 44,
   "id": "8883b3c9",
   "metadata": {},
   "outputs": [
    {
     "name": "stdout",
     "output_type": "stream",
     "text": [
      "Index(['h18_id', 'h18_ind', 'h18_sn', 'h18_merkey', 'h_new', 'h_new1',\n",
      "       'h18_cobf', 'p18_wsc', 'p18_wsl', 'p18_wgc',\n",
      "       ...\n",
      "       'da18_324', 'da18_325', 'da18_326', 'da18_327', 'da18_6aq14',\n",
      "       'h18_pers_income1', 'h18_pers_income2', 'h18_pers_income3',\n",
      "       'h18_pers_income4', 'h18_pers_income5'],\n",
      "      dtype='object', length=1155)\n"
     ]
    }
   ],
   "source": [
    "# 분석에 필요한 열을 결정 // 열 이름 변경 \n",
    "welfare = welfare.rename(\n",
    "    columns={'h18_g3' : 'sex',               #성별\n",
    "             'h18_g4' : 'birth',             #태어난 연도\n",
    "             'h18_g10' : 'marriage_type',    #혼인상태\n",
    "             'h18_g11' : 'religion',         #종교\n",
    "             'p1802_8aq1' : 'income',        #월급\n",
    "             'h18_eco9' : 'code_job',        #직업코드\n",
    "             'h18_reg7' : 'code_region'})    #지역코드\n",
    "\n",
    "print(welfare.columns)"
   ]
  },
  {
   "cell_type": "code",
   "execution_count": 45,
   "id": "0bfbd817",
   "metadata": {},
   "outputs": [
    {
     "data": {
      "text/plain": [
       "dtype('float64')"
      ]
     },
     "execution_count": 45,
     "metadata": {},
     "output_type": "execute_result"
    }
   ],
   "source": [
    "# 성별 변수 검토 및 전처리 \n",
    "welfare['sex'].dtype  # 열타입확인 "
   ]
  },
  {
   "cell_type": "code",
   "execution_count": 46,
   "id": "cbf5bb27",
   "metadata": {},
   "outputs": [
    {
     "data": {
      "text/plain": [
       "sex\n",
       "2.0    8787\n",
       "1.0    7144\n",
       "Name: count, dtype: int64"
      ]
     },
     "execution_count": 46,
     "metadata": {},
     "output_type": "execute_result"
    }
   ],
   "source": [
    "welfare['sex'].value_counts() #빈도수"
   ]
  },
  {
   "cell_type": "code",
   "execution_count": 47,
   "id": "f49eceb2",
   "metadata": {},
   "outputs": [
    {
     "data": {
      "text/plain": [
       "np.int64(0)"
      ]
     },
     "execution_count": 47,
     "metadata": {},
     "output_type": "execute_result"
    }
   ],
   "source": [
    "# 이상치 결측 처리 \n",
    "welfare['sex'] = np.where(welfare['sex'] == 9, np.nan, welfare['sex'])\n",
    "\n",
    "# 결측 확인 \n",
    "welfare['sex'].isna().sum()"
   ]
  },
  {
   "cell_type": "code",
   "execution_count": 48,
   "id": "d8cd1a26",
   "metadata": {},
   "outputs": [
    {
     "data": {
      "text/plain": [
       "sex\n",
       "female    8787\n",
       "male      7144\n",
       "Name: count, dtype: int64"
      ]
     },
     "execution_count": 48,
     "metadata": {},
     "output_type": "execute_result"
    }
   ],
   "source": [
    "# 성별 항목 이름 부여\n",
    "welfare['sex'] = np.where(welfare['sex'] == 1, 'male', 'female')\n",
    "\n",
    "# 빈도 구하기 \n",
    "welfare['sex'].value_counts() #빈도수"
   ]
  },
  {
   "cell_type": "code",
   "execution_count": 49,
   "id": "94df92c2",
   "metadata": {},
   "outputs": [
    {
     "data": {
      "text/plain": [
       "<Axes: xlabel='sex', ylabel='count'>"
      ]
     },
     "execution_count": 49,
     "metadata": {},
     "output_type": "execute_result"
    },
    {
     "data": {
      "image/png": "[encoded data removed]",
      "text/plain": [
       "<Figure size 640x480 with 1 Axes>"
      ]
     },
     "metadata": {},
     "output_type": "display_data"
    }
   ],
   "source": [
    "# 빈도 막대 그래프\n",
    "sns.countplot(data= welfare, x='sex')"
   ]
  },
  {
   "cell_type": "code",
   "execution_count": 50,
   "id": "cdcd22f1",
   "metadata": {},
   "outputs": [
    {
     "data": {
      "text/plain": [
       "dtype('float64')"
      ]
     },
     "execution_count": 50,
     "metadata": {},
     "output_type": "execute_result"
    }
   ],
   "source": [
    "welfare['income'].dtype #변수타입 출력 "
   ]
  },
  {
   "cell_type": "code",
   "execution_count": 51,
   "id": "97863418",
   "metadata": {},
   "outputs": [
    {
     "data": {
      "text/plain": [
       "<bound method NDFrame.describe of 0          NaN\n",
       "1        180.0\n",
       "2          NaN\n",
       "3        252.0\n",
       "4          NaN\n",
       "         ...  \n",
       "15926    833.0\n",
       "15927      NaN\n",
       "15928      NaN\n",
       "15929      NaN\n",
       "15930      NaN\n",
       "Name: income, Length: 15931, dtype: float64>"
      ]
     },
     "execution_count": 51,
     "metadata": {},
     "output_type": "execute_result"
    }
   ],
   "source": [
    "welfare['income'].describe #요약통계"
   ]
  },
  {
   "cell_type": "code",
   "execution_count": 52,
   "id": "6d84f8e6",
   "metadata": {},
   "outputs": [
    {
     "data": {
      "text/plain": [
       "<Axes: xlabel='income', ylabel='Count'>"
      ]
     },
     "execution_count": 52,
     "metadata": {},
     "output_type": "execute_result"
    },
    {
     "data": {
      "image/png": "[encoded data removed]",
      "text/plain": [
       "<Figure size 640x480 with 1 Axes>"
      ]
     },
     "metadata": {},
     "output_type": "display_data"
    }
   ],
   "source": [
    "# 시각화\n",
    "sns.histplot(data=welfare, x='income') # 히스토그램 그래프"
   ]
  },
  {
   "cell_type": "code",
   "execution_count": 53,
   "id": "2e996788",
   "metadata": {},
   "outputs": [
    {
     "data": {
      "text/plain": [
       "count    5630.000000\n",
       "mean      284.461989\n",
       "std       222.592542\n",
       "min         0.000000\n",
       "25%       133.250000\n",
       "50%       250.000000\n",
       "75%       375.000000\n",
       "max      2333.000000\n",
       "Name: income, dtype: float64"
      ]
     },
     "execution_count": 53,
     "metadata": {},
     "output_type": "execute_result"
    }
   ],
   "source": [
    "welfare['income'].describe() # 이상치 확인_전처리"
   ]
  },
  {
   "cell_type": "code",
   "execution_count": 54,
   "id": "9a5eb7c8",
   "metadata": {},
   "outputs": [
    {
     "name": "stdout",
     "output_type": "stream",
     "text": [
      "10301\n"
     ]
    }
   ],
   "source": [
    "print(welfare['income'].isna().sum()) # 결측치 확인"
   ]
  },
  {
   "cell_type": "code",
   "execution_count": 55,
   "id": "4af33a31",
   "metadata": {},
   "outputs": [
    {
     "data": {
      "text/plain": [
       "np.int64(10301)"
      ]
     },
     "execution_count": 55,
     "metadata": {},
     "output_type": "execute_result"
    }
   ],
   "source": [
    "# 이상치 결측 처리 \n",
    "welfare['income'] = np.where(welfare['income'] == 9999, np.nan, welfare['income'])\n",
    "\n",
    "# 결측치 확인 \n",
    "welfare['income'].isna().sum()"
   ]
  },
  {
   "cell_type": "code",
   "execution_count": 56,
   "id": "a492e2db",
   "metadata": {},
   "outputs": [
    {
     "data": {
      "text/html": [
       "<div>\n",
       "<style scoped>\n",
       "    .dataframe tbody tr th:only-of-type {\n",
       "        vertical-align: middle;\n",
       "    }\n",
       "\n",
       "    .dataframe tbody tr th {\n",
       "        vertical-align: top;\n",
       "    }\n",
       "\n",
       "    .dataframe thead th {\n",
       "        text-align: right;\n",
       "    }\n",
       "</style>\n",
       "<table border=\"1\" class=\"dataframe\">\n",
       "  <thead>\n",
       "    <tr style=\"text-align: right;\">\n",
       "      <th></th>\n",
       "      <th>sex</th>\n",
       "      <th>mean_income</th>\n",
       "    </tr>\n",
       "  </thead>\n",
       "  <tbody>\n",
       "    <tr>\n",
       "      <th>0</th>\n",
       "      <td>female</td>\n",
       "      <td>200.327693</td>\n",
       "    </tr>\n",
       "    <tr>\n",
       "      <th>1</th>\n",
       "      <td>male</td>\n",
       "      <td>373.581565</td>\n",
       "    </tr>\n",
       "  </tbody>\n",
       "</table>\n",
       "</div>"
      ],
      "text/plain": [
       "      sex  mean_income\n",
       "0  female   200.327693\n",
       "1    male   373.581565"
      ]
     },
     "execution_count": 56,
     "metadata": {},
     "output_type": "execute_result"
    }
   ],
   "source": [
    "# 성별 월급 평균\n",
    "sex_income = welfare.dropna(subset= ['income']) \\\n",
    "                    .groupby('sex', as_index=False)\\\n",
    "                    .agg(mean_income = ('income', 'mean'))\n",
    "sex_income"
   ]
  },
  {
   "cell_type": "code",
   "execution_count": 57,
   "id": "08132552",
   "metadata": {},
   "outputs": [
    {
     "data": {
      "text/plain": [
       "<Axes: xlabel='sex', ylabel='mean_income'>"
      ]
     },
     "execution_count": 57,
     "metadata": {},
     "output_type": "execute_result"
    },
    {
     "data": {
      "image/png": "[encoded data removed]",
      "text/plain": [
       "<Figure size 640x480 with 1 Axes>"
      ]
     },
     "metadata": {},
     "output_type": "display_data"
    }
   ],
   "source": [
    "# 막대그래프 - 총량을 나타낼 떄 좋음\n",
    "sns.barplot(data=sex_income, x='sex',y='mean_income')"
   ]
  },
  {
   "cell_type": "code",
   "execution_count": 58,
   "id": "7a849fda",
   "metadata": {},
   "outputs": [
    {
     "data": {
      "text/plain": [
       "dtype('float64')"
      ]
     },
     "execution_count": 58,
     "metadata": {},
     "output_type": "execute_result"
    }
   ],
   "source": [
    "welfare['birth'].dtypes"
   ]
  },
  {
   "cell_type": "code",
   "execution_count": 59,
   "id": "d6954412",
   "metadata": {},
   "outputs": [
    {
     "data": {
      "text/plain": [
       "<bound method NDFrame.describe of 0        1945.0\n",
       "1        1948.0\n",
       "2        1942.0\n",
       "3        1962.0\n",
       "4        1963.0\n",
       "          ...  \n",
       "15926    1975.0\n",
       "15927    1976.0\n",
       "15928    2009.0\n",
       "15929    1964.0\n",
       "15930    1964.0\n",
       "Name: birth, Length: 15931, dtype: float64>"
      ]
     },
     "execution_count": 59,
     "metadata": {},
     "output_type": "execute_result"
    }
   ],
   "source": [
    "welfare['birth'].describe #요약통계"
   ]
  },
  {
   "cell_type": "code",
   "execution_count": 60,
   "id": "03d38499",
   "metadata": {},
   "outputs": [
    {
     "data": {
      "text/plain": [
       "<Axes: xlabel='birth', ylabel='Count'>"
      ]
     },
     "execution_count": 60,
     "metadata": {},
     "output_type": "execute_result"
    },
    {
     "data": {
      "image/png": "[encoded data removed]",
      "text/plain": [
       "<Figure size 640x480 with 1 Axes>"
      ]
     },
     "metadata": {},
     "output_type": "display_data"
    }
   ],
   "source": [
    "sns.histplot(data=welfare, x='birth') # 히스토그램 그래프"
   ]
  },
  {
   "cell_type": "code",
   "execution_count": 61,
   "id": "970a7d3e",
   "metadata": {},
   "outputs": [
    {
     "data": {
      "text/plain": [
       "count    15931.000000\n",
       "mean      1969.424016\n",
       "std         24.226765\n",
       "min       1906.000000\n",
       "25%       1949.000000\n",
       "50%       1965.000000\n",
       "75%       1988.000000\n",
       "max       2022.000000\n",
       "Name: birth, dtype: float64"
      ]
     },
     "execution_count": 61,
     "metadata": {},
     "output_type": "execute_result"
    }
   ],
   "source": [
    "# 전처리 \n",
    "welfare['birth'].describe()"
   ]
  },
  {
   "cell_type": "code",
   "execution_count": 62,
   "id": "6a973ad9",
   "metadata": {},
   "outputs": [
    {
     "data": {
      "text/plain": [
       "np.int64(0)"
      ]
     },
     "execution_count": 62,
     "metadata": {},
     "output_type": "execute_result"
    }
   ],
   "source": [
    "# 결측치 확인\n",
    "welfare['birth'].isna().sum()"
   ]
  },
  {
   "cell_type": "code",
   "execution_count": 63,
   "id": "b162dffd",
   "metadata": {},
   "outputs": [
    {
     "data": {
      "text/plain": [
       "np.int64(0)"
      ]
     },
     "execution_count": 63,
     "metadata": {},
     "output_type": "execute_result"
    }
   ],
   "source": [
    "# 이사치 결측처리\n",
    "welfare['birth'] = np.where(welfare['income'] == 9999, np.nan, welfare['birth'])\n",
    "\n",
    "# 결측치 재확인\n",
    "welfare['birth'].isna().sum()"
   ]
  },
  {
   "cell_type": "code",
   "execution_count": 64,
   "id": "b9f1cfc7",
   "metadata": {},
   "outputs": [
    {
     "data": {
      "text/plain": [
       "count    15931.000000\n",
       "mean        50.575984\n",
       "std         24.226765\n",
       "min         -2.000000\n",
       "25%         32.000000\n",
       "50%         55.000000\n",
       "75%         71.000000\n",
       "max        114.000000\n",
       "Name: age, dtype: float64"
      ]
     },
     "execution_count": 64,
     "metadata": {},
     "output_type": "execute_result"
    }
   ],
   "source": [
    "# 나이열 추가하기\n",
    "welfare = welfare.assign(age = 2019 - welfare['birth'] + 1)\n",
    "welfare['age'].describe()"
   ]
  },
  {
   "cell_type": "code",
   "execution_count": 65,
   "id": "b5b34c0d",
   "metadata": {},
   "outputs": [
    {
     "data": {
      "text/plain": [
       "<Axes: xlabel='age', ylabel='Count'>"
      ]
     },
     "execution_count": 65,
     "metadata": {},
     "output_type": "execute_result"
    },
    {
     "data": {
      "image/png": "[encoded data removed]",
      "text/plain": [
       "<Figure size 640x480 with 1 Axes>"
      ]
     },
     "metadata": {},
     "output_type": "display_data"
    }
   ],
   "source": [
    "sns.histplot(data=welfare, x='age') # 히스토그램 그래프"
   ]
  },
  {
   "cell_type": "markdown",
   "id": "96115354",
   "metadata": {},
   "source": [
    "### 나이별 월급 평균"
   ]
  },
  {
   "cell_type": "code",
   "execution_count": 66,
   "id": "c1ee0722",
   "metadata": {},
   "outputs": [
    {
     "data": {
      "text/html": [
       "<div>\n",
       "<style scoped>\n",
       "    .dataframe tbody tr th:only-of-type {\n",
       "        vertical-align: middle;\n",
       "    }\n",
       "\n",
       "    .dataframe tbody tr th {\n",
       "        vertical-align: top;\n",
       "    }\n",
       "\n",
       "    .dataframe thead th {\n",
       "        text-align: right;\n",
       "    }\n",
       "</style>\n",
       "<table border=\"1\" class=\"dataframe\">\n",
       "  <thead>\n",
       "    <tr style=\"text-align: right;\">\n",
       "      <th></th>\n",
       "      <th>mean_income</th>\n",
       "    </tr>\n",
       "    <tr>\n",
       "      <th>age</th>\n",
       "      <th></th>\n",
       "    </tr>\n",
       "  </thead>\n",
       "  <tbody>\n",
       "    <tr>\n",
       "      <th>16.0</th>\n",
       "      <td>197.000000</td>\n",
       "    </tr>\n",
       "    <tr>\n",
       "      <th>17.0</th>\n",
       "      <td>186.500000</td>\n",
       "    </tr>\n",
       "    <tr>\n",
       "      <th>18.0</th>\n",
       "      <td>125.560000</td>\n",
       "    </tr>\n",
       "    <tr>\n",
       "      <th>19.0</th>\n",
       "      <td>138.800000</td>\n",
       "    </tr>\n",
       "    <tr>\n",
       "      <th>20.0</th>\n",
       "      <td>185.067797</td>\n",
       "    </tr>\n",
       "  </tbody>\n",
       "</table>\n",
       "</div>"
      ],
      "text/plain": [
       "      mean_income\n",
       "age              \n",
       "16.0   197.000000\n",
       "17.0   186.500000\n",
       "18.0   125.560000\n",
       "19.0   138.800000\n",
       "20.0   185.067797"
      ]
     },
     "execution_count": 66,
     "metadata": {},
     "output_type": "execute_result"
    }
   ],
   "source": [
    "# 나이별 월급 평균 \n",
    "age_income = welfare.dropna(subset=['income']) \\\n",
    "                    .groupby('age') \\\n",
    "                    .agg(mean_income = ('income', 'mean'))\n",
    "age_income.head()"
   ]
  },
  {
   "cell_type": "code",
   "execution_count": 67,
   "id": "b7f6e2cc",
   "metadata": {},
   "outputs": [
    {
     "data": {
      "text/plain": [
       "<Axes: xlabel='age', ylabel='mean_income'>"
      ]
     },
     "execution_count": 67,
     "metadata": {},
     "output_type": "execute_result"
    },
    {
     "data": {
      "image/png": "[encoded data removed]",
      "text/plain": [
       "<Figure size 640x480 with 1 Axes>"
      ]
     },
     "metadata": {},
     "output_type": "display_data"
    }
   ],
   "source": [
    "# 선그래프\n",
    "sns.lineplot(data= age_income, x='age', y='mean_income')"
   ]
  },
  {
   "cell_type": "code",
   "execution_count": 68,
   "id": "cbfc877f",
   "metadata": {},
   "outputs": [
    {
     "data": {
      "text/plain": [
       "0    75.0\n",
       "1    72.0\n",
       "2    78.0\n",
       "3    58.0\n",
       "4    57.0\n",
       "Name: age, dtype: float64"
      ]
     },
     "execution_count": 68,
     "metadata": {},
     "output_type": "execute_result"
    }
   ],
   "source": [
    "# 연령대에 따른 임금 차이\n",
    "# 초년층: 30세 미만\n",
    "# 중년층: 30~599세\n",
    "# 노년층: 60세 이상 \n",
    "\n",
    "# 나이 변수 확인\n",
    "welfare['age'].head()"
   ]
  },
  {
   "cell_type": "code",
   "execution_count": 69,
   "id": "348c76cd",
   "metadata": {},
   "outputs": [
    {
     "data": {
      "text/plain": [
       "ageg\n",
       "old       6914\n",
       "middle    5339\n",
       "young     3678\n",
       "Name: count, dtype: int64"
      ]
     },
     "execution_count": 69,
     "metadata": {},
     "output_type": "execute_result"
    }
   ],
   "source": [
    "welfare = welfare.assign(ageg = np.where(welfare['age'] < 30, 'young',\n",
    "                                np.where(welfare['age'] <= 59, 'middle','old' )))\n",
    "\n",
    "welfare ['ageg'].value_counts()"
   ]
  },
  {
   "cell_type": "code",
   "execution_count": 70,
   "id": "2e470719",
   "metadata": {},
   "outputs": [
    {
     "data": {
      "text/plain": [
       "<Axes: xlabel='ageg', ylabel='count'>"
      ]
     },
     "execution_count": 70,
     "metadata": {},
     "output_type": "execute_result"
    },
    {
     "data": {
      "image/png": "[encoded data removed]",
      "text/plain": [
       "<Figure size 640x480 with 1 Axes>"
      ]
     },
     "metadata": {},
     "output_type": "display_data"
    }
   ],
   "source": [
    "# 빈도그래프\n",
    "sns. countplot(data = welfare, x = 'ageg')"
   ]
  },
  {
   "cell_type": "markdown",
   "id": "c678dd93",
   "metadata": {},
   "source": [
    "### 연령대 별 월급차이 "
   ]
  },
  {
   "cell_type": "code",
   "execution_count": 71,
   "id": "249271b4",
   "metadata": {},
   "outputs": [
    {
     "data": {
      "text/html": [
       "<div>\n",
       "<style scoped>\n",
       "    .dataframe tbody tr th:only-of-type {\n",
       "        vertical-align: middle;\n",
       "    }\n",
       "\n",
       "    .dataframe tbody tr th {\n",
       "        vertical-align: top;\n",
       "    }\n",
       "\n",
       "    .dataframe thead th {\n",
       "        text-align: right;\n",
       "    }\n",
       "</style>\n",
       "<table border=\"1\" class=\"dataframe\">\n",
       "  <thead>\n",
       "    <tr style=\"text-align: right;\">\n",
       "      <th></th>\n",
       "      <th>mean_income</th>\n",
       "    </tr>\n",
       "    <tr>\n",
       "      <th>age</th>\n",
       "      <th></th>\n",
       "    </tr>\n",
       "  </thead>\n",
       "  <tbody>\n",
       "    <tr>\n",
       "      <th>16.0</th>\n",
       "      <td>197.000000</td>\n",
       "    </tr>\n",
       "    <tr>\n",
       "      <th>17.0</th>\n",
       "      <td>186.500000</td>\n",
       "    </tr>\n",
       "    <tr>\n",
       "      <th>18.0</th>\n",
       "      <td>125.560000</td>\n",
       "    </tr>\n",
       "    <tr>\n",
       "      <th>19.0</th>\n",
       "      <td>138.800000</td>\n",
       "    </tr>\n",
       "    <tr>\n",
       "      <th>20.0</th>\n",
       "      <td>185.067797</td>\n",
       "    </tr>\n",
       "    <tr>\n",
       "      <th>...</th>\n",
       "      <td>...</td>\n",
       "    </tr>\n",
       "    <tr>\n",
       "      <th>87.0</th>\n",
       "      <td>27.000000</td>\n",
       "    </tr>\n",
       "    <tr>\n",
       "      <th>88.0</th>\n",
       "      <td>27.000000</td>\n",
       "    </tr>\n",
       "    <tr>\n",
       "      <th>89.0</th>\n",
       "      <td>28.000000</td>\n",
       "    </tr>\n",
       "    <tr>\n",
       "      <th>90.0</th>\n",
       "      <td>27.000000</td>\n",
       "    </tr>\n",
       "    <tr>\n",
       "      <th>91.0</th>\n",
       "      <td>27.500000</td>\n",
       "    </tr>\n",
       "  </tbody>\n",
       "</table>\n",
       "<p>76 rows × 1 columns</p>\n",
       "</div>"
      ],
      "text/plain": [
       "      mean_income\n",
       "age              \n",
       "16.0   197.000000\n",
       "17.0   186.500000\n",
       "18.0   125.560000\n",
       "19.0   138.800000\n",
       "20.0   185.067797\n",
       "...           ...\n",
       "87.0    27.000000\n",
       "88.0    27.000000\n",
       "89.0    28.000000\n",
       "90.0    27.000000\n",
       "91.0    27.500000\n",
       "\n",
       "[76 rows x 1 columns]"
      ]
     },
     "execution_count": 71,
     "metadata": {},
     "output_type": "execute_result"
    }
   ],
   "source": [
    "# 연령대 별 월급차이 \n",
    "# 연령대 별 월급 평균\n",
    "\n",
    "ageg_income = welfare.dropna(subset=['income']) \\\n",
    "                      .groupby('ageg', as_index= False) \\\n",
    "                      .agg(mean_income = ('income', 'mean'))\n",
    "age_income"
   ]
  },
  {
   "cell_type": "code",
   "execution_count": 72,
   "id": "bb1fcb64",
   "metadata": {},
   "outputs": [
    {
     "data": {
      "text/plain": [
       "<Axes: xlabel='ageg', ylabel='mean_income'>"
      ]
     },
     "execution_count": 72,
     "metadata": {},
     "output_type": "execute_result"
    },
    {
     "data": {
      "image/png": "[encoded data removed]",
      "text/plain": [
       "<Figure size 640x480 with 1 Axes>"
      ]
     },
     "metadata": {},
     "output_type": "display_data"
    }
   ],
   "source": [
    "# 시각화\n",
    "sns.barplot(data= ageg_income, x='ageg', y='mean_income')"
   ]
  },
  {
   "cell_type": "code",
   "execution_count": 73,
   "id": "684a555f",
   "metadata": {},
   "outputs": [
    {
     "data": {
      "text/plain": [
       "<Axes: xlabel='ageg', ylabel='mean_income'>"
      ]
     },
     "execution_count": 73,
     "metadata": {},
     "output_type": "execute_result"
    },
    {
     "data": {
      "image/png": "[encoded data removed]",
      "text/plain": [
       "<Figure size 640x480 with 1 Axes>"
      ]
     },
     "metadata": {},
     "output_type": "display_data"
    }
   ],
   "source": [
    "sns.barplot(data= ageg_income, x='ageg', y='mean_income', \n",
    "            order= ['young', 'middle', 'old'])"
   ]
  },
  {
   "cell_type": "markdown",
   "id": "98468a50",
   "metadata": {},
   "source": [
    "### 연령대 및 성별 월급 차이 "
   ]
  },
  {
   "cell_type": "code",
   "execution_count": 74,
   "id": "bb1ab6b2",
   "metadata": {},
   "outputs": [
    {
     "data": {
      "text/html": [
       "<div>\n",
       "<style scoped>\n",
       "    .dataframe tbody tr th:only-of-type {\n",
       "        vertical-align: middle;\n",
       "    }\n",
       "\n",
       "    .dataframe tbody tr th {\n",
       "        vertical-align: top;\n",
       "    }\n",
       "\n",
       "    .dataframe thead th {\n",
       "        text-align: right;\n",
       "    }\n",
       "</style>\n",
       "<table border=\"1\" class=\"dataframe\">\n",
       "  <thead>\n",
       "    <tr style=\"text-align: right;\">\n",
       "      <th></th>\n",
       "      <th>ageg</th>\n",
       "      <th>sex</th>\n",
       "      <th>mean_income</th>\n",
       "    </tr>\n",
       "  </thead>\n",
       "  <tbody>\n",
       "    <tr>\n",
       "      <th>0</th>\n",
       "      <td>middle</td>\n",
       "      <td>female</td>\n",
       "      <td>265.110274</td>\n",
       "    </tr>\n",
       "    <tr>\n",
       "      <th>1</th>\n",
       "      <td>middle</td>\n",
       "      <td>male</td>\n",
       "      <td>457.490330</td>\n",
       "    </tr>\n",
       "    <tr>\n",
       "      <th>2</th>\n",
       "      <td>old</td>\n",
       "      <td>female</td>\n",
       "      <td>80.148030</td>\n",
       "    </tr>\n",
       "    <tr>\n",
       "      <th>3</th>\n",
       "      <td>old</td>\n",
       "      <td>male</td>\n",
       "      <td>184.325540</td>\n",
       "    </tr>\n",
       "    <tr>\n",
       "      <th>4</th>\n",
       "      <td>young</td>\n",
       "      <td>female</td>\n",
       "      <td>237.080483</td>\n",
       "    </tr>\n",
       "    <tr>\n",
       "      <th>5</th>\n",
       "      <td>young</td>\n",
       "      <td>male</td>\n",
       "      <td>272.902381</td>\n",
       "    </tr>\n",
       "  </tbody>\n",
       "</table>\n",
       "</div>"
      ],
      "text/plain": [
       "     ageg     sex  mean_income\n",
       "0  middle  female   265.110274\n",
       "1  middle    male   457.490330\n",
       "2     old  female    80.148030\n",
       "3     old    male   184.325540\n",
       "4   young  female   237.080483\n",
       "5   young    male   272.902381"
      ]
     },
     "execution_count": 74,
     "metadata": {},
     "output_type": "execute_result"
    }
   ],
   "source": [
    "# 연령대 및 성별 평균\n",
    "sex_income = welfare.dropna(subset=['income']) \\\n",
    "                      .groupby(['ageg','sex'], as_index= False) \\\n",
    "                      .agg(mean_income = ('income', 'mean'))\n",
    "sex_income"
   ]
  },
  {
   "cell_type": "code",
   "execution_count": 75,
   "id": "899183ac",
   "metadata": {},
   "outputs": [
    {
     "data": {
      "text/plain": [
       "<Axes: xlabel='ageg', ylabel='mean_income'>"
      ]
     },
     "execution_count": 75,
     "metadata": {},
     "output_type": "execute_result"
    },
    {
     "data": {
      "image/png": "[encoded data removed]",
      "text/plain": [
       "<Figure size 640x480 with 1 Axes>"
      ]
     },
     "metadata": {},
     "output_type": "display_data"
    }
   ],
   "source": [
    "# 연령대 및 성별 월급 시각화\n",
    "sns.barplot(data= sex_income, x='ageg', y='mean_income', hue='sex',\n",
    "            order= ['young', 'middle', 'old'])"
   ]
  },
  {
   "cell_type": "markdown",
   "id": "f60141b8",
   "metadata": {},
   "source": [
    "### 나이 및 성별 평균표 "
   ]
  },
  {
   "cell_type": "code",
   "execution_count": 76,
   "id": "d624a312",
   "metadata": {},
   "outputs": [
    {
     "data": {
      "text/html": [
       "<div>\n",
       "<style scoped>\n",
       "    .dataframe tbody tr th:only-of-type {\n",
       "        vertical-align: middle;\n",
       "    }\n",
       "\n",
       "    .dataframe tbody tr th {\n",
       "        vertical-align: top;\n",
       "    }\n",
       "\n",
       "    .dataframe thead th {\n",
       "        text-align: right;\n",
       "    }\n",
       "</style>\n",
       "<table border=\"1\" class=\"dataframe\">\n",
       "  <thead>\n",
       "    <tr style=\"text-align: right;\">\n",
       "      <th></th>\n",
       "      <th>age</th>\n",
       "      <th>sex</th>\n",
       "      <th>mean_income</th>\n",
       "    </tr>\n",
       "  </thead>\n",
       "  <tbody>\n",
       "    <tr>\n",
       "      <th>0</th>\n",
       "      <td>16.0</td>\n",
       "      <td>male</td>\n",
       "      <td>197.000000</td>\n",
       "    </tr>\n",
       "    <tr>\n",
       "      <th>1</th>\n",
       "      <td>17.0</td>\n",
       "      <td>female</td>\n",
       "      <td>197.454545</td>\n",
       "    </tr>\n",
       "    <tr>\n",
       "      <th>2</th>\n",
       "      <td>17.0</td>\n",
       "      <td>male</td>\n",
       "      <td>169.285714</td>\n",
       "    </tr>\n",
       "    <tr>\n",
       "      <th>3</th>\n",
       "      <td>18.0</td>\n",
       "      <td>female</td>\n",
       "      <td>85.181818</td>\n",
       "    </tr>\n",
       "    <tr>\n",
       "      <th>4</th>\n",
       "      <td>18.0</td>\n",
       "      <td>male</td>\n",
       "      <td>157.285714</td>\n",
       "    </tr>\n",
       "  </tbody>\n",
       "</table>\n",
       "</div>"
      ],
      "text/plain": [
       "    age     sex  mean_income\n",
       "0  16.0    male   197.000000\n",
       "1  17.0  female   197.454545\n",
       "2  17.0    male   169.285714\n",
       "3  18.0  female    85.181818\n",
       "4  18.0    male   157.285714"
      ]
     },
     "execution_count": 76,
     "metadata": {},
     "output_type": "execute_result"
    }
   ],
   "source": [
    "# 나이 및 성별 평균표 \n",
    "sex_age = welfare.dropna(subset=['income']) \\\n",
    "                 .groupby(['age', 'sex'], as_index= False) \\\n",
    "                 .agg(mean_income = ('income', 'mean')) \n",
    "sex_age.head()"
   ]
  },
  {
   "cell_type": "code",
   "execution_count": 77,
   "id": "bf9d33b5",
   "metadata": {},
   "outputs": [
    {
     "data": {
      "text/plain": [
       "<Axes: xlabel='age', ylabel='mean_income'>"
      ]
     },
     "execution_count": 77,
     "metadata": {},
     "output_type": "execute_result"
    },
    {
     "data": {
      "image/png": "[encoded data removed]",
      "text/plain": [
       "<Figure size 640x480 with 1 Axes>"
      ]
     },
     "metadata": {},
     "output_type": "display_data"
    }
   ],
   "source": [
    "# 성별 평균 급여차이 \n",
    "sns.lineplot(data= sex_age, x='age', y='mean_income', hue='sex')"
   ]
  },
  {
   "cell_type": "markdown",
   "id": "5887a9ef",
   "metadata": {},
   "source": [
    "### 직업별 월급차이"
   ]
  },
  {
   "cell_type": "code",
   "execution_count": 78,
   "id": "2b0c602a",
   "metadata": {},
   "outputs": [
    {
     "data": {
      "text/plain": [
       "dtype('float64')"
      ]
     },
     "execution_count": 78,
     "metadata": {},
     "output_type": "execute_result"
    }
   ],
   "source": [
    "# 직업 코드 열 속성 \n",
    "welfare['code_job'].dtype "
   ]
  },
  {
   "cell_type": "code",
   "execution_count": 79,
   "id": "8f86b146",
   "metadata": {},
   "outputs": [
    {
     "data": {
      "text/plain": [
       "code_job\n",
       "611.0    1195\n",
       "941.0     670\n",
       "521.0     384\n",
       "312.0     310\n",
       "999.0     273\n",
       "         ... \n",
       "212.0       1\n",
       "861.0       1\n",
       "822.0       1\n",
       "872.0       1\n",
       "423.0       1\n",
       "Name: count, Length: 153, dtype: int64"
      ]
     },
     "execution_count": 79,
     "metadata": {},
     "output_type": "execute_result"
    }
   ],
   "source": [
    "# 빈도수 \n",
    "welfare['code_job'].value_counts()"
   ]
  },
  {
   "cell_type": "code",
   "execution_count": 83,
   "id": "2f0f7fb5",
   "metadata": {},
   "outputs": [
    {
     "data": {
      "text/html": [
       "<div>\n",
       "<style scoped>\n",
       "    .dataframe tbody tr th:only-of-type {\n",
       "        vertical-align: middle;\n",
       "    }\n",
       "\n",
       "    .dataframe tbody tr th {\n",
       "        vertical-align: top;\n",
       "    }\n",
       "\n",
       "    .dataframe thead th {\n",
       "        text-align: right;\n",
       "    }\n",
       "</style>\n",
       "<table border=\"1\" class=\"dataframe\">\n",
       "  <thead>\n",
       "    <tr style=\"text-align: right;\">\n",
       "      <th></th>\n",
       "      <th>code_job</th>\n",
       "      <th>job</th>\n",
       "    </tr>\n",
       "  </thead>\n",
       "  <tbody>\n",
       "    <tr>\n",
       "      <th>0</th>\n",
       "      <td>111</td>\n",
       "      <td>의회 의원∙고위 공무원 및 공공단체 임원</td>\n",
       "    </tr>\n",
       "    <tr>\n",
       "      <th>1</th>\n",
       "      <td>112</td>\n",
       "      <td>기업 고위 임원</td>\n",
       "    </tr>\n",
       "    <tr>\n",
       "      <th>2</th>\n",
       "      <td>121</td>\n",
       "      <td>행정 및 경영 지원 관리자</td>\n",
       "    </tr>\n",
       "    <tr>\n",
       "      <th>3</th>\n",
       "      <td>122</td>\n",
       "      <td>마케팅 및 광고∙홍보 관리자</td>\n",
       "    </tr>\n",
       "    <tr>\n",
       "      <th>4</th>\n",
       "      <td>131</td>\n",
       "      <td>연구∙교육 및 법률 관련 관리자</td>\n",
       "    </tr>\n",
       "    <tr>\n",
       "      <th>...</th>\n",
       "      <td>...</td>\n",
       "      <td>...</td>\n",
       "    </tr>\n",
       "    <tr>\n",
       "      <th>151</th>\n",
       "      <td>992</td>\n",
       "      <td>계기∙자판기 및 주차 관리 종사자</td>\n",
       "    </tr>\n",
       "    <tr>\n",
       "      <th>152</th>\n",
       "      <td>999</td>\n",
       "      <td>기타 서비스 관련 단순 종사자</td>\n",
       "    </tr>\n",
       "    <tr>\n",
       "      <th>153</th>\n",
       "      <td>1001</td>\n",
       "      <td>장교</td>\n",
       "    </tr>\n",
       "    <tr>\n",
       "      <th>154</th>\n",
       "      <td>1002</td>\n",
       "      <td>부사관</td>\n",
       "    </tr>\n",
       "    <tr>\n",
       "      <th>155</th>\n",
       "      <td>1009</td>\n",
       "      <td>기타 군인</td>\n",
       "    </tr>\n",
       "  </tbody>\n",
       "</table>\n",
       "<p>156 rows × 2 columns</p>\n",
       "</div>"
      ],
      "text/plain": [
       "     code_job                     job\n",
       "0         111  의회 의원∙고위 공무원 및 공공단체 임원\n",
       "1         112                기업 고위 임원\n",
       "2         121          행정 및 경영 지원 관리자\n",
       "3         122         마케팅 및 광고∙홍보 관리자\n",
       "4         131       연구∙교육 및 법률 관련 관리자\n",
       "..        ...                     ...\n",
       "151       992      계기∙자판기 및 주차 관리 종사자\n",
       "152       999        기타 서비스 관련 단순 종사자\n",
       "153      1001                      장교\n",
       "154      1002                     부사관\n",
       "155      1009                   기타 군인\n",
       "\n",
       "[156 rows x 2 columns]"
      ]
     },
     "execution_count": 83,
     "metadata": {},
     "output_type": "execute_result"
    }
   ],
   "source": [
    "# 직업 코드의 직종_엑셀시트 지정하기\n",
    "list_job = pd.read_excel('D:/data/Koweps_Codebook_2023.xlsx',\n",
    "                         sheet_name='직종코드')\n",
    "\n",
    "list_job"
   ]
  },
  {
   "cell_type": "code",
   "execution_count": 84,
   "id": "705ce5ea",
   "metadata": {},
   "outputs": [
    {
     "data": {
      "text/plain": [
       "(156, 2)"
      ]
     },
     "execution_count": 84,
     "metadata": {},
     "output_type": "execute_result"
    }
   ],
   "source": [
    "list_job.shape # 직업군 종류"
   ]
  },
  {
   "cell_type": "code",
   "execution_count": 85,
   "id": "a55da7b3",
   "metadata": {},
   "outputs": [],
   "source": [
    "# welfare에 list_job 결합하기 \n",
    "welfare = welfare.merge(list_job, how='left', on= 'code_job')"
   ]
  },
  {
   "cell_type": "code",
   "execution_count": 86,
   "id": "d07a8a95",
   "metadata": {},
   "outputs": [
    {
     "data": {
      "text/html": [
       "<div>\n",
       "<style scoped>\n",
       "    .dataframe tbody tr th:only-of-type {\n",
       "        vertical-align: middle;\n",
       "    }\n",
       "\n",
       "    .dataframe tbody tr th {\n",
       "        vertical-align: top;\n",
       "    }\n",
       "\n",
       "    .dataframe thead th {\n",
       "        text-align: right;\n",
       "    }\n",
       "</style>\n",
       "<table border=\"1\" class=\"dataframe\">\n",
       "  <thead>\n",
       "    <tr style=\"text-align: right;\">\n",
       "      <th></th>\n",
       "      <th>code_job</th>\n",
       "      <th>job</th>\n",
       "    </tr>\n",
       "  </thead>\n",
       "  <tbody>\n",
       "    <tr>\n",
       "      <th>1</th>\n",
       "      <td>942.0</td>\n",
       "      <td>건물 관리원 및 검표원</td>\n",
       "    </tr>\n",
       "    <tr>\n",
       "      <th>2</th>\n",
       "      <td>952.0</td>\n",
       "      <td>음식 관련 단순 종사자</td>\n",
       "    </tr>\n",
       "    <tr>\n",
       "      <th>3</th>\n",
       "      <td>855.0</td>\n",
       "      <td>금속기계 부품 조립원</td>\n",
       "    </tr>\n",
       "    <tr>\n",
       "      <th>8</th>\n",
       "      <td>941.0</td>\n",
       "      <td>청소원 및 환경미화원</td>\n",
       "    </tr>\n",
       "    <tr>\n",
       "      <th>9</th>\n",
       "      <td>151.0</td>\n",
       "      <td>판매 및 운송 관리자</td>\n",
       "    </tr>\n",
       "  </tbody>\n",
       "</table>\n",
       "</div>"
      ],
      "text/plain": [
       "   code_job           job\n",
       "1     942.0  건물 관리원 및 검표원\n",
       "2     952.0  음식 관련 단순 종사자\n",
       "3     855.0   금속기계 부품 조립원\n",
       "8     941.0   청소원 및 환경미화원\n",
       "9     151.0   판매 및 운송 관리자"
      ]
     },
     "execution_count": 86,
     "metadata": {},
     "output_type": "execute_result"
    }
   ],
   "source": [
    "# code_job 결측치 제거하고 code_job, job 출력\n",
    "welfare.dropna(subset=['code_job'])[['code_job', 'job']].head()"
   ]
  },
  {
   "cell_type": "code",
   "execution_count": 87,
   "id": "43a649db",
   "metadata": {},
   "outputs": [
    {
     "data": {
      "text/html": [
       "<div>\n",
       "<style scoped>\n",
       "    .dataframe tbody tr th:only-of-type {\n",
       "        vertical-align: middle;\n",
       "    }\n",
       "\n",
       "    .dataframe tbody tr th {\n",
       "        vertical-align: top;\n",
       "    }\n",
       "\n",
       "    .dataframe thead th {\n",
       "        text-align: right;\n",
       "    }\n",
       "</style>\n",
       "<table border=\"1\" class=\"dataframe\">\n",
       "  <thead>\n",
       "    <tr style=\"text-align: right;\">\n",
       "      <th></th>\n",
       "      <th>job</th>\n",
       "      <th>mean_income</th>\n",
       "    </tr>\n",
       "  </thead>\n",
       "  <tbody>\n",
       "    <tr>\n",
       "      <th>0</th>\n",
       "      <td>가사 및 육아 도우미</td>\n",
       "      <td>90.926471</td>\n",
       "    </tr>\n",
       "    <tr>\n",
       "      <th>1</th>\n",
       "      <td>간호사</td>\n",
       "      <td>317.101449</td>\n",
       "    </tr>\n",
       "    <tr>\n",
       "      <th>2</th>\n",
       "      <td>감정∙기술영업및중개관련종사자</td>\n",
       "      <td>387.250000</td>\n",
       "    </tr>\n",
       "    <tr>\n",
       "      <th>3</th>\n",
       "      <td>건물 관리원 및 검표원</td>\n",
       "      <td>206.913043</td>\n",
       "    </tr>\n",
       "    <tr>\n",
       "      <th>4</th>\n",
       "      <td>건설 및 광업 단순 종사자</td>\n",
       "      <td>289.859649</td>\n",
       "    </tr>\n",
       "  </tbody>\n",
       "</table>\n",
       "</div>"
      ],
      "text/plain": [
       "                job  mean_income\n",
       "0       가사 및 육아 도우미    90.926471\n",
       "1               간호사   317.101449\n",
       "2  감정∙기술영업및중개관련종사자    387.250000\n",
       "3      건물 관리원 및 검표원   206.913043\n",
       "4    건설 및 광업 단순 종사자   289.859649"
      ]
     },
     "execution_count": 87,
     "metadata": {},
     "output_type": "execute_result"
    }
   ],
   "source": [
    "# 직업별 월급 \n",
    "# 1) job, income 결측치 제거\n",
    "# 2) job 분류 \n",
    "# 3) income 평균 \n",
    "\n",
    "job_income = welfare.dropna(subset=['job', 'income']) \\\n",
    "                    .groupby('job', as_index= False) \\\n",
    "                    .agg(mean_income= ('income', 'mean'))\n",
    "job_income.head()"
   ]
  },
  {
   "cell_type": "code",
   "execution_count": 88,
   "id": "45e5c6d7",
   "metadata": {},
   "outputs": [
    {
     "data": {
      "text/html": [
       "<div>\n",
       "<style scoped>\n",
       "    .dataframe tbody tr th:only-of-type {\n",
       "        vertical-align: middle;\n",
       "    }\n",
       "\n",
       "    .dataframe tbody tr th {\n",
       "        vertical-align: top;\n",
       "    }\n",
       "\n",
       "    .dataframe thead th {\n",
       "        text-align: right;\n",
       "    }\n",
       "</style>\n",
       "<table border=\"1\" class=\"dataframe\">\n",
       "  <thead>\n",
       "    <tr style=\"text-align: right;\">\n",
       "      <th></th>\n",
       "      <th>job</th>\n",
       "      <th>mean_income</th>\n",
       "    </tr>\n",
       "  </thead>\n",
       "  <tbody>\n",
       "    <tr>\n",
       "      <th>97</th>\n",
       "      <td>의료 진료 전문가</td>\n",
       "      <td>800.833333</td>\n",
       "    </tr>\n",
       "    <tr>\n",
       "      <th>101</th>\n",
       "      <td>인사 및 경영 전문가</td>\n",
       "      <td>760.333333</td>\n",
       "    </tr>\n",
       "    <tr>\n",
       "      <th>147</th>\n",
       "      <td>화학공학 기술자 및 시험원</td>\n",
       "      <td>729.200000</td>\n",
       "    </tr>\n",
       "    <tr>\n",
       "      <th>132</th>\n",
       "      <td>컴퓨터 하드웨어 및 통신공학 전문가</td>\n",
       "      <td>725.800000</td>\n",
       "    </tr>\n",
       "    <tr>\n",
       "      <th>128</th>\n",
       "      <td>철도운송 관련 종사자</td>\n",
       "      <td>698.000000</td>\n",
       "    </tr>\n",
       "    <tr>\n",
       "      <th>59</th>\n",
       "      <td>법률 전문가</td>\n",
       "      <td>695.000000</td>\n",
       "    </tr>\n",
       "    <tr>\n",
       "      <th>26</th>\n",
       "      <td>기업 고위 임원</td>\n",
       "      <td>691.666667</td>\n",
       "    </tr>\n",
       "    <tr>\n",
       "      <th>142</th>\n",
       "      <td>행정 및 경영 지원 관리자</td>\n",
       "      <td>690.000000</td>\n",
       "    </tr>\n",
       "    <tr>\n",
       "      <th>109</th>\n",
       "      <td>장교</td>\n",
       "      <td>687.750000</td>\n",
       "    </tr>\n",
       "    <tr>\n",
       "      <th>62</th>\n",
       "      <td>보험 및 금융 관리자</td>\n",
       "      <td>681.200000</td>\n",
       "    </tr>\n",
       "  </tbody>\n",
       "</table>\n",
       "</div>"
      ],
      "text/plain": [
       "                     job  mean_income\n",
       "97             의료 진료 전문가   800.833333\n",
       "101          인사 및 경영 전문가   760.333333\n",
       "147       화학공학 기술자 및 시험원   729.200000\n",
       "132  컴퓨터 하드웨어 및 통신공학 전문가   725.800000\n",
       "128          철도운송 관련 종사자   698.000000\n",
       "59                법률 전문가   695.000000\n",
       "26              기업 고위 임원   691.666667\n",
       "142       행정 및 경영 지원 관리자   690.000000\n",
       "109                   장교   687.750000\n",
       "62           보험 및 금융 관리자   681.200000"
      ]
     },
     "execution_count": 88,
     "metadata": {},
     "output_type": "execute_result"
    }
   ],
   "source": [
    "# 상위 10위 추출 \n",
    "top10 = job_income.sort_values('mean_income', ascending=False).head(10)\n",
    "top10"
   ]
  },
  {
   "cell_type": "code",
   "execution_count": 89,
   "id": "87719daa",
   "metadata": {},
   "outputs": [],
   "source": [
    "# 맑은 고딕 폰트 설정\n",
    "import matplotlib.pyplot as plt\n",
    "plt.rcParams.update({'font.family' : \"Malgun Gothic\"})"
   ]
  },
  {
   "cell_type": "code",
   "execution_count": 90,
   "id": "8c8fcc9d",
   "metadata": {},
   "outputs": [
    {
     "data": {
      "text/plain": [
       "<Axes: xlabel='mean_income', ylabel='job'>"
      ]
     },
     "execution_count": 90,
     "metadata": {},
     "output_type": "execute_result"
    },
    {
     "data": {
      "image/png": "[encoded data removed]",
      "text/plain": [
       "<Figure size 640x480 with 1 Axes>"
      ]
     },
     "metadata": {},
     "output_type": "display_data"
    }
   ],
   "source": [
    "# 위의 데이터 내용을 시각화\n",
    "sns.barplot(data=top10, y='job', x='mean_income')"
   ]
  },
  {
   "cell_type": "code",
   "execution_count": 91,
   "id": "77e49a0c",
   "metadata": {},
   "outputs": [
    {
     "data": {
      "text/html": [
       "<div>\n",
       "<style scoped>\n",
       "    .dataframe tbody tr th:only-of-type {\n",
       "        vertical-align: middle;\n",
       "    }\n",
       "\n",
       "    .dataframe tbody tr th {\n",
       "        vertical-align: top;\n",
       "    }\n",
       "\n",
       "    .dataframe thead th {\n",
       "        text-align: right;\n",
       "    }\n",
       "</style>\n",
       "<table border=\"1\" class=\"dataframe\">\n",
       "  <thead>\n",
       "    <tr style=\"text-align: right;\">\n",
       "      <th></th>\n",
       "      <th>job</th>\n",
       "      <th>mean_income</th>\n",
       "    </tr>\n",
       "  </thead>\n",
       "  <tbody>\n",
       "    <tr>\n",
       "      <th>129</th>\n",
       "      <td>청소원 및 환경미화원</td>\n",
       "      <td>76.252322</td>\n",
       "    </tr>\n",
       "    <tr>\n",
       "      <th>33</th>\n",
       "      <td>기타 서비스 관련 단순 종사자</td>\n",
       "      <td>77.402439</td>\n",
       "    </tr>\n",
       "    <tr>\n",
       "      <th>0</th>\n",
       "      <td>가사 및 육아 도우미</td>\n",
       "      <td>90.926471</td>\n",
       "    </tr>\n",
       "    <tr>\n",
       "      <th>32</th>\n",
       "      <td>기타 돌봄∙보건 및 개인 생활 서비스 종사자</td>\n",
       "      <td>109.212121</td>\n",
       "    </tr>\n",
       "    <tr>\n",
       "      <th>96</th>\n",
       "      <td>음식 관련 단순 종사자</td>\n",
       "      <td>115.238806</td>\n",
       "    </tr>\n",
       "    <tr>\n",
       "      <th>42</th>\n",
       "      <td>돌봄 및 보건 서비스 종사자</td>\n",
       "      <td>141.383929</td>\n",
       "    </tr>\n",
       "    <tr>\n",
       "      <th>148</th>\n",
       "      <td>환경∙청소 및 경비 관련 관리자</td>\n",
       "      <td>149.861111</td>\n",
       "    </tr>\n",
       "    <tr>\n",
       "      <th>38</th>\n",
       "      <td>농림∙어업 관련 단순 종사자</td>\n",
       "      <td>151.368421</td>\n",
       "    </tr>\n",
       "    <tr>\n",
       "      <th>140</th>\n",
       "      <td>학예사∙사서 및 기록물 관리사</td>\n",
       "      <td>168.000000</td>\n",
       "    </tr>\n",
       "    <tr>\n",
       "      <th>78</th>\n",
       "      <td>식음료 서비스 종사자</td>\n",
       "      <td>171.240000</td>\n",
       "    </tr>\n",
       "  </tbody>\n",
       "</table>\n",
       "</div>"
      ],
      "text/plain": [
       "                          job  mean_income\n",
       "129               청소원 및 환경미화원    76.252322\n",
       "33           기타 서비스 관련 단순 종사자    77.402439\n",
       "0                 가사 및 육아 도우미    90.926471\n",
       "32   기타 돌봄∙보건 및 개인 생활 서비스 종사자   109.212121\n",
       "96               음식 관련 단순 종사자   115.238806\n",
       "42            돌봄 및 보건 서비스 종사자   141.383929\n",
       "148         환경∙청소 및 경비 관련 관리자   149.861111\n",
       "38            농림∙어업 관련 단순 종사자   151.368421\n",
       "140          학예사∙사서 및 기록물 관리사   168.000000\n",
       "78                식음료 서비스 종사자   171.240000"
      ]
     },
     "execution_count": 91,
     "metadata": {},
     "output_type": "execute_result"
    }
   ],
   "source": [
    "# 하위 10위 추출 \n",
    "bottom10 = job_income.sort_values('mean_income').head(10)\n",
    "bottom10"
   ]
  },
  {
   "cell_type": "code",
   "execution_count": 92,
   "id": "ee4c0b4e",
   "metadata": {},
   "outputs": [
    {
     "data": {
      "text/plain": [
       "[(0.0, 800.0)]"
      ]
     },
     "execution_count": 92,
     "metadata": {},
     "output_type": "execute_result"
    },
    {
     "data": {
      "image/png": "[encoded data removed]",
      "text/plain": [
       "<Figure size 640x480 with 1 Axes>"
      ]
     },
     "metadata": {},
     "output_type": "display_data"
    }
   ],
   "source": [
    "sns.barplot(data=bottom10, y='job', x='mean_income').set(xlim=(0,800))"
   ]
  },
  {
   "cell_type": "markdown",
   "id": "d941ca8a",
   "metadata": {},
   "source": [
    "### 성별 직업 빈도 "
   ]
  },
  {
   "cell_type": "code",
   "execution_count": 93,
   "id": "8365ceb5",
   "metadata": {},
   "outputs": [
    {
     "data": {
      "text/html": [
       "<div>\n",
       "<style scoped>\n",
       "    .dataframe tbody tr th:only-of-type {\n",
       "        vertical-align: middle;\n",
       "    }\n",
       "\n",
       "    .dataframe tbody tr th {\n",
       "        vertical-align: top;\n",
       "    }\n",
       "\n",
       "    .dataframe thead th {\n",
       "        text-align: right;\n",
       "    }\n",
       "</style>\n",
       "<table border=\"1\" class=\"dataframe\">\n",
       "  <thead>\n",
       "    <tr style=\"text-align: right;\">\n",
       "      <th></th>\n",
       "      <th>job</th>\n",
       "      <th>n</th>\n",
       "    </tr>\n",
       "  </thead>\n",
       "  <tbody>\n",
       "    <tr>\n",
       "      <th>107</th>\n",
       "      <td>작물 재배 종사자</td>\n",
       "      <td>617</td>\n",
       "    </tr>\n",
       "    <tr>\n",
       "      <th>104</th>\n",
       "      <td>자동차 운전원</td>\n",
       "      <td>229</td>\n",
       "    </tr>\n",
       "    <tr>\n",
       "      <th>11</th>\n",
       "      <td>경영 관련 사무원</td>\n",
       "      <td>218</td>\n",
       "    </tr>\n",
       "    <tr>\n",
       "      <th>128</th>\n",
       "      <td>청소원 및 환경미화원</td>\n",
       "      <td>172</td>\n",
       "    </tr>\n",
       "    <tr>\n",
       "      <th>45</th>\n",
       "      <td>매장 판매 종사자</td>\n",
       "      <td>156</td>\n",
       "    </tr>\n",
       "    <tr>\n",
       "      <th>88</th>\n",
       "      <td>영업 종사자</td>\n",
       "      <td>107</td>\n",
       "    </tr>\n",
       "    <tr>\n",
       "      <th>33</th>\n",
       "      <td>기타 서비스 관련 단순 종사자</td>\n",
       "      <td>105</td>\n",
       "    </tr>\n",
       "    <tr>\n",
       "      <th>120</th>\n",
       "      <td>제조 관련 단순 종사자</td>\n",
       "      <td>102</td>\n",
       "    </tr>\n",
       "    <tr>\n",
       "      <th>4</th>\n",
       "      <td>건설 및 광업 단순 종사자</td>\n",
       "      <td>100</td>\n",
       "    </tr>\n",
       "    <tr>\n",
       "      <th>3</th>\n",
       "      <td>건물 관리원 및 검표원</td>\n",
       "      <td>95</td>\n",
       "    </tr>\n",
       "  </tbody>\n",
       "</table>\n",
       "</div>"
      ],
      "text/plain": [
       "                  job    n\n",
       "107         작물 재배 종사자  617\n",
       "104           자동차 운전원  229\n",
       "11          경영 관련 사무원  218\n",
       "128       청소원 및 환경미화원  172\n",
       "45          매장 판매 종사자  156\n",
       "88             영업 종사자  107\n",
       "33   기타 서비스 관련 단순 종사자  105\n",
       "120      제조 관련 단순 종사자  102\n",
       "4      건설 및 광업 단순 종사자  100\n",
       "3        건물 관리원 및 검표원   95"
      ]
     },
     "execution_count": 93,
     "metadata": {},
     "output_type": "execute_result"
    }
   ],
   "source": [
    "# 남성 직업 빈도 상위 10개 추출 \n",
    "job_male = welfare.dropna(subset=['job']) \\\n",
    "                  .query('sex == \"male\"') \\\n",
    "                  .groupby('job', as_index=False) \\\n",
    "                  .agg(n= ('job', 'count')) \\\n",
    "                  .sort_values('n', ascending= False) \\\n",
    "                  .head(10)\n",
    "job_male"
   ]
  },
  {
   "cell_type": "code",
   "execution_count": 94,
   "id": "1e38d3c5",
   "metadata": {},
   "outputs": [
    {
     "data": {
      "text/html": [
       "<div>\n",
       "<style scoped>\n",
       "    .dataframe tbody tr th:only-of-type {\n",
       "        vertical-align: middle;\n",
       "    }\n",
       "\n",
       "    .dataframe tbody tr th {\n",
       "        vertical-align: top;\n",
       "    }\n",
       "\n",
       "    .dataframe thead th {\n",
       "        text-align: right;\n",
       "    }\n",
       "</style>\n",
       "<table border=\"1\" class=\"dataframe\">\n",
       "  <thead>\n",
       "    <tr style=\"text-align: right;\">\n",
       "      <th></th>\n",
       "      <th>job</th>\n",
       "      <th>n</th>\n",
       "    </tr>\n",
       "  </thead>\n",
       "  <tbody>\n",
       "    <tr>\n",
       "      <th>86</th>\n",
       "      <td>작물 재배 종사자</td>\n",
       "      <td>578</td>\n",
       "    </tr>\n",
       "    <tr>\n",
       "      <th>96</th>\n",
       "      <td>청소원 및 환경미화원</td>\n",
       "      <td>498</td>\n",
       "    </tr>\n",
       "    <tr>\n",
       "      <th>35</th>\n",
       "      <td>매장 판매 종사자</td>\n",
       "      <td>228</td>\n",
       "    </tr>\n",
       "    <tr>\n",
       "      <th>32</th>\n",
       "      <td>돌봄 및 보건 서비스 종사자</td>\n",
       "      <td>216</td>\n",
       "    </tr>\n",
       "    <tr>\n",
       "      <th>114</th>\n",
       "      <td>회계 및 경리 사무원</td>\n",
       "      <td>175</td>\n",
       "    </tr>\n",
       "    <tr>\n",
       "      <th>25</th>\n",
       "      <td>기타 서비스 관련 단순 종사자</td>\n",
       "      <td>168</td>\n",
       "    </tr>\n",
       "    <tr>\n",
       "      <th>61</th>\n",
       "      <td>식음료 서비스 종사자</td>\n",
       "      <td>152</td>\n",
       "    </tr>\n",
       "    <tr>\n",
       "      <th>76</th>\n",
       "      <td>음식 관련 단순 종사자</td>\n",
       "      <td>132</td>\n",
       "    </tr>\n",
       "    <tr>\n",
       "      <th>92</th>\n",
       "      <td>제조 관련 단순 종사자</td>\n",
       "      <td>123</td>\n",
       "    </tr>\n",
       "    <tr>\n",
       "      <th>93</th>\n",
       "      <td>조리사</td>\n",
       "      <td>120</td>\n",
       "    </tr>\n",
       "  </tbody>\n",
       "</table>\n",
       "</div>"
      ],
      "text/plain": [
       "                  job    n\n",
       "86          작물 재배 종사자  578\n",
       "96        청소원 및 환경미화원  498\n",
       "35          매장 판매 종사자  228\n",
       "32    돌봄 및 보건 서비스 종사자  216\n",
       "114       회계 및 경리 사무원  175\n",
       "25   기타 서비스 관련 단순 종사자  168\n",
       "61        식음료 서비스 종사자  152\n",
       "76       음식 관련 단순 종사자  132\n",
       "92       제조 관련 단순 종사자  123\n",
       "93                조리사  120"
      ]
     },
     "execution_count": 94,
     "metadata": {},
     "output_type": "execute_result"
    }
   ],
   "source": [
    "# 여성 직업 빈도 상위 10개 추출 \n",
    "job_female = welfare.dropna(subset=['job']) \\\n",
    "                  .query('sex == \"female\"') \\\n",
    "                  .groupby('job', as_index=False) \\\n",
    "                  .agg(n= ('job', 'count')) \\\n",
    "                  .sort_values('n', ascending= False) \\\n",
    "                  .head(10)\n",
    "job_female"
   ]
  },
  {
   "cell_type": "code",
   "execution_count": 95,
   "id": "d78881a2",
   "metadata": {},
   "outputs": [
    {
     "data": {
      "text/plain": [
       "[(0.0, 500.0)]"
      ]
     },
     "execution_count": 95,
     "metadata": {},
     "output_type": "execute_result"
    },
    {
     "data": {
      "image/png": "[encoded data removed]",
      "text/plain": [
       "<Figure size 640x480 with 1 Axes>"
      ]
     },
     "metadata": {},
     "output_type": "display_data"
    }
   ],
   "source": [
    "# 남성 직업 빈도 막대그래프\n",
    "sns.barplot(data= job_male, y='job', x='n').set(xlim=(0,500))"
   ]
  },
  {
   "cell_type": "code",
   "execution_count": 96,
   "id": "e22b8766",
   "metadata": {},
   "outputs": [
    {
     "data": {
      "text/plain": [
       "[(0.0, 500.0)]"
      ]
     },
     "execution_count": 96,
     "metadata": {},
     "output_type": "execute_result"
    },
    {
     "data": {
      "image/png": "[encoded data removed]",
      "text/plain": [
       "<Figure size 640x480 with 1 Axes>"
      ]
     },
     "metadata": {},
     "output_type": "display_data"
    }
   ],
   "source": [
    "# 여성 직업 빈도 막대그래프\n",
    "sns.barplot(data= job_female, y='job', x='n').set(xlim=(0,500))"
   ]
  },
  {
   "cell_type": "markdown",
   "id": "46391262",
   "metadata": {},
   "source": [
    "### 종교 유무에 따른 이혼율"
   ]
  },
  {
   "cell_type": "code",
   "execution_count": 97,
   "id": "c389d8bd",
   "metadata": {},
   "outputs": [
    {
     "data": {
      "text/plain": [
       "dtype('float64')"
      ]
     },
     "execution_count": 97,
     "metadata": {},
     "output_type": "execute_result"
    }
   ],
   "source": [
    "welfare['religion'].dtype"
   ]
  },
  {
   "cell_type": "code",
   "execution_count": 98,
   "id": "bfebbb91",
   "metadata": {},
   "outputs": [
    {
     "data": {
      "text/plain": [
       "religion\n",
       "2.0    8996\n",
       "1.0    6935\n",
       "Name: count, dtype: int64"
      ]
     },
     "execution_count": 98,
     "metadata": {},
     "output_type": "execute_result"
    }
   ],
   "source": [
    "welfare['religion'].value_counts() #빈도수"
   ]
  },
  {
   "cell_type": "code",
   "execution_count": 99,
   "id": "e1c81ad5",
   "metadata": {},
   "outputs": [
    {
     "data": {
      "text/plain": [
       "religion\n",
       "No     8996\n",
       "Yes    6935\n",
       "Name: count, dtype: int64"
      ]
     },
     "execution_count": 99,
     "metadata": {},
     "output_type": "execute_result"
    }
   ],
   "source": [
    "# 전처리 - 1 : 있음, 2 : 없음, 9: 모름/무응답 \n",
    "# 종교 유무 이름 부여 \n",
    "welfare['religion'] = np.where(welfare['religion'] == 1, 'Yes', 'No')\n",
    "\n",
    "# 빈도구하기\n",
    "welfare['religion'] .value_counts()"
   ]
  },
  {
   "cell_type": "code",
   "execution_count": 100,
   "id": "9cd79084",
   "metadata": {},
   "outputs": [
    {
     "data": {
      "text/plain": [
       "<Axes: xlabel='religion', ylabel='count'>"
      ]
     },
     "execution_count": 100,
     "metadata": {},
     "output_type": "execute_result"
    },
    {
     "data": {
      "image/png": "[encoded data removed]",
      "text/plain": [
       "<Figure size 640x480 with 1 Axes>"
      ]
     },
     "metadata": {},
     "output_type": "display_data"
    }
   ],
   "source": [
    "# 시각화\n",
    "sns.countplot(data=welfare, x='religion')"
   ]
  },
  {
   "cell_type": "code",
   "execution_count": 101,
   "id": "78a2a7a2",
   "metadata": {},
   "outputs": [
    {
     "data": {
      "text/plain": [
       "dtype('float64')"
      ]
     },
     "execution_count": 101,
     "metadata": {},
     "output_type": "execute_result"
    }
   ],
   "source": [
    "# 혼인 상태 여부\n",
    "welfare['marriage_type'].dtype"
   ]
  },
  {
   "cell_type": "code",
   "execution_count": 102,
   "id": "82d2d8c4",
   "metadata": {},
   "outputs": [
    {
     "data": {
      "text/plain": [
       "marriage_type\n",
       "1.0    8107\n",
       "5.0    2589\n",
       "2.0    2364\n",
       "0.0    1883\n",
       "3.0     872\n",
       "4.0      92\n",
       "6.0      24\n",
       "Name: count, dtype: int64"
      ]
     },
     "execution_count": 102,
     "metadata": {},
     "output_type": "execute_result"
    }
   ],
   "source": [
    "# 항목별 빈도수\n",
    "welfare['marriage_type'].value_counts()"
   ]
  },
  {
   "cell_type": "code",
   "execution_count": 103,
   "id": "107f7106",
   "metadata": {},
   "outputs": [],
   "source": [
    "# 이혼여부 \n",
    "# 0.비해당(18세 미만) 1.유배우  2.사별  3.이혼   4.별거 \n",
    "# 5.미혼(18세이상, 미혼모 포함)   6.기타(사망 등)\n",
    "# => 1 : marriage, 3: divorce, - 그외: etc \n",
    "\n",
    "welfare['marriage'] = np.where(welfare['marriage_type'] == 1, 'marriage', \n",
    "                      np.where(welfare['marriage_type'] == 3, 'divorce', 'etc'))"
   ]
  },
  {
   "cell_type": "code",
   "execution_count": 104,
   "id": "9f7b2a0b",
   "metadata": {},
   "outputs": [
    {
     "data": {
      "text/html": [
       "<div>\n",
       "<style scoped>\n",
       "    .dataframe tbody tr th:only-of-type {\n",
       "        vertical-align: middle;\n",
       "    }\n",
       "\n",
       "    .dataframe tbody tr th {\n",
       "        vertical-align: top;\n",
       "    }\n",
       "\n",
       "    .dataframe thead th {\n",
       "        text-align: right;\n",
       "    }\n",
       "</style>\n",
       "<table border=\"1\" class=\"dataframe\">\n",
       "  <thead>\n",
       "    <tr style=\"text-align: right;\">\n",
       "      <th></th>\n",
       "      <th>marriage</th>\n",
       "      <th>n</th>\n",
       "    </tr>\n",
       "  </thead>\n",
       "  <tbody>\n",
       "    <tr>\n",
       "      <th>0</th>\n",
       "      <td>divorce</td>\n",
       "      <td>872</td>\n",
       "    </tr>\n",
       "    <tr>\n",
       "      <th>1</th>\n",
       "      <td>etc</td>\n",
       "      <td>6952</td>\n",
       "    </tr>\n",
       "    <tr>\n",
       "      <th>2</th>\n",
       "      <td>marriage</td>\n",
       "      <td>8107</td>\n",
       "    </tr>\n",
       "  </tbody>\n",
       "</table>\n",
       "</div>"
      ],
      "text/plain": [
       "   marriage     n\n",
       "0   divorce   872\n",
       "1       etc  6952\n",
       "2  marriage  8107"
      ]
     },
     "execution_count": 104,
     "metadata": {},
     "output_type": "execute_result"
    }
   ],
   "source": [
    "# 이혼 여부 별 빈도\n",
    "n_divorce = welfare.groupby('marriage', as_index=False) \\\n",
    "                   .agg(n = ('marriage', 'count'))\n",
    "n_divorce"
   ]
  },
  {
   "cell_type": "code",
   "execution_count": 105,
   "id": "2a837f2e",
   "metadata": {},
   "outputs": [
    {
     "data": {
      "text/plain": [
       "<Axes: xlabel='marriage', ylabel='n'>"
      ]
     },
     "execution_count": 105,
     "metadata": {},
     "output_type": "execute_result"
    },
    {
     "data": {
      "image/png": "[encoded data removed]",
      "text/plain": [
       "<Figure size 640x480 with 1 Axes>"
      ]
     },
     "metadata": {},
     "output_type": "display_data"
    }
   ],
   "source": [
    "sns.barplot(data= n_divorce, x= 'marriage', y= 'n')"
   ]
  },
  {
   "cell_type": "code",
   "execution_count": 106,
   "id": "6f2cf4ea",
   "metadata": {},
   "outputs": [
    {
     "data": {
      "text/html": [
       "<div>\n",
       "<style scoped>\n",
       "    .dataframe tbody tr th:only-of-type {\n",
       "        vertical-align: middle;\n",
       "    }\n",
       "\n",
       "    .dataframe tbody tr th {\n",
       "        vertical-align: top;\n",
       "    }\n",
       "\n",
       "    .dataframe thead th {\n",
       "        text-align: right;\n",
       "    }\n",
       "</style>\n",
       "<table border=\"1\" class=\"dataframe\">\n",
       "  <thead>\n",
       "    <tr style=\"text-align: right;\">\n",
       "      <th></th>\n",
       "      <th>religion</th>\n",
       "      <th>marriage</th>\n",
       "      <th>proportion</th>\n",
       "    </tr>\n",
       "  </thead>\n",
       "  <tbody>\n",
       "    <tr>\n",
       "      <th>0</th>\n",
       "      <td>No</td>\n",
       "      <td>marriage</td>\n",
       "      <td>0.900703</td>\n",
       "    </tr>\n",
       "    <tr>\n",
       "      <th>1</th>\n",
       "      <td>No</td>\n",
       "      <td>divorce</td>\n",
       "      <td>0.099297</td>\n",
       "    </tr>\n",
       "    <tr>\n",
       "      <th>2</th>\n",
       "      <td>Yes</td>\n",
       "      <td>marriage</td>\n",
       "      <td>0.905428</td>\n",
       "    </tr>\n",
       "    <tr>\n",
       "      <th>3</th>\n",
       "      <td>Yes</td>\n",
       "      <td>divorce</td>\n",
       "      <td>0.094572</td>\n",
       "    </tr>\n",
       "  </tbody>\n",
       "</table>\n",
       "</div>"
      ],
      "text/plain": [
       "  religion  marriage  proportion\n",
       "0       No  marriage    0.900703\n",
       "1       No   divorce    0.099297\n",
       "2      Yes  marriage    0.905428\n",
       "3      Yes   divorce    0.094572"
      ]
     },
     "execution_count": 106,
     "metadata": {},
     "output_type": "execute_result"
    }
   ],
   "source": [
    "# 종교 유무에 따른 이혼율 분석 \n",
    "# etc 제외 \n",
    "# religion별 분리 \n",
    "# marriage 추출 \n",
    "# 비율 구하기 \n",
    "rel_dev = welfare.query('marriage != \"etc\"') \\\n",
    "                 .groupby('religion', as_index=False) \\\n",
    "                 ['marriage'] \\\n",
    "                 .value_counts( normalize=True )\n",
    "\n",
    "rel_dev"
   ]
  },
  {
   "cell_type": "code",
   "execution_count": 107,
   "id": "fc94eaed",
   "metadata": {},
   "outputs": [
    {
     "data": {
      "text/html": [
       "<div>\n",
       "<style scoped>\n",
       "    .dataframe tbody tr th:only-of-type {\n",
       "        vertical-align: middle;\n",
       "    }\n",
       "\n",
       "    .dataframe tbody tr th {\n",
       "        vertical-align: top;\n",
       "    }\n",
       "\n",
       "    .dataframe thead th {\n",
       "        text-align: right;\n",
       "    }\n",
       "</style>\n",
       "<table border=\"1\" class=\"dataframe\">\n",
       "  <thead>\n",
       "    <tr style=\"text-align: right;\">\n",
       "      <th></th>\n",
       "      <th>religion</th>\n",
       "      <th>marriage</th>\n",
       "      <th>proportion</th>\n",
       "    </tr>\n",
       "  </thead>\n",
       "  <tbody>\n",
       "    <tr>\n",
       "      <th>1</th>\n",
       "      <td>No</td>\n",
       "      <td>divorce</td>\n",
       "      <td>9.9</td>\n",
       "    </tr>\n",
       "    <tr>\n",
       "      <th>3</th>\n",
       "      <td>Yes</td>\n",
       "      <td>divorce</td>\n",
       "      <td>9.5</td>\n",
       "    </tr>\n",
       "  </tbody>\n",
       "</table>\n",
       "</div>"
      ],
      "text/plain": [
       "  religion marriage  proportion\n",
       "1       No  divorce         9.9\n",
       "3      Yes  divorce         9.5"
      ]
     },
     "execution_count": 107,
     "metadata": {},
     "output_type": "execute_result"
    }
   ],
   "source": [
    "# 전처리 \n",
    "# divorce 추출 \n",
    "# 이혼에 해당하는 값만 추출 후 proportion을 백분율로 바꾸고 \n",
    "# 소수점 첫째자리까지 반올림 \n",
    "\n",
    "rel_dev = rel_dev.query('marriage == \"divorce\"') \\\n",
    "                 .assign(proportion = rel_dev['proportion'] * 100) \\\n",
    "                 .round(1)\n",
    "rel_dev"
   ]
  },
  {
   "cell_type": "code",
   "execution_count": 108,
   "id": "1ef9b10c",
   "metadata": {},
   "outputs": [
    {
     "data": {
      "text/plain": [
       "<Axes: xlabel='religion', ylabel='proportion'>"
      ]
     },
     "execution_count": 108,
     "metadata": {},
     "output_type": "execute_result"
    },
    {
     "data": {
      "image/png": "[encoded data removed]",
      "text/plain": [
       "<Figure size 640x480 with 1 Axes>"
      ]
     },
     "metadata": {},
     "output_type": "display_data"
    }
   ],
   "source": [
    "sns.barplot(data= rel_dev, x= 'religion', y= 'proportion')"
   ]
  },
  {
   "cell_type": "markdown",
   "id": "9f4a85ad",
   "metadata": {},
   "source": [
    "### 연령대 및 종교 유무에 따른 이혼율 분석"
   ]
  },
  {
   "cell_type": "code",
   "execution_count": 109,
   "id": "8317db37",
   "metadata": {},
   "outputs": [
    {
     "data": {
      "text/html": [
       "<div>\n",
       "<style scoped>\n",
       "    .dataframe tbody tr th:only-of-type {\n",
       "        vertical-align: middle;\n",
       "    }\n",
       "\n",
       "    .dataframe tbody tr th {\n",
       "        vertical-align: top;\n",
       "    }\n",
       "\n",
       "    .dataframe thead th {\n",
       "        text-align: right;\n",
       "    }\n",
       "</style>\n",
       "<table border=\"1\" class=\"dataframe\">\n",
       "  <thead>\n",
       "    <tr style=\"text-align: right;\">\n",
       "      <th></th>\n",
       "      <th>ageg</th>\n",
       "      <th>marriage</th>\n",
       "      <th>proportion</th>\n",
       "    </tr>\n",
       "  </thead>\n",
       "  <tbody>\n",
       "    <tr>\n",
       "      <th>0</th>\n",
       "      <td>middle</td>\n",
       "      <td>marriage</td>\n",
       "      <td>0.901045</td>\n",
       "    </tr>\n",
       "    <tr>\n",
       "      <th>1</th>\n",
       "      <td>middle</td>\n",
       "      <td>divorce</td>\n",
       "      <td>0.098955</td>\n",
       "    </tr>\n",
       "    <tr>\n",
       "      <th>2</th>\n",
       "      <td>old</td>\n",
       "      <td>marriage</td>\n",
       "      <td>0.902048</td>\n",
       "    </tr>\n",
       "    <tr>\n",
       "      <th>3</th>\n",
       "      <td>old</td>\n",
       "      <td>divorce</td>\n",
       "      <td>0.097952</td>\n",
       "    </tr>\n",
       "    <tr>\n",
       "      <th>4</th>\n",
       "      <td>young</td>\n",
       "      <td>marriage</td>\n",
       "      <td>0.967033</td>\n",
       "    </tr>\n",
       "    <tr>\n",
       "      <th>5</th>\n",
       "      <td>young</td>\n",
       "      <td>divorce</td>\n",
       "      <td>0.032967</td>\n",
       "    </tr>\n",
       "  </tbody>\n",
       "</table>\n",
       "</div>"
      ],
      "text/plain": [
       "     ageg  marriage  proportion\n",
       "0  middle  marriage    0.901045\n",
       "1  middle   divorce    0.098955\n",
       "2     old  marriage    0.902048\n",
       "3     old   divorce    0.097952\n",
       "4   young  marriage    0.967033\n",
       "5   young   divorce    0.032967"
      ]
     },
     "execution_count": 109,
     "metadata": {},
     "output_type": "execute_result"
    }
   ],
   "source": [
    "# etc 제외\n",
    "# ageg별 분리\n",
    "# marriage 추출\n",
    "# 비율 구하기 \n",
    "\n",
    "age_div = welfare.query('marriage != \"etc\"') \\\n",
    "                 .groupby('ageg', as_index=False) \\\n",
    "                 ['marriage'] \\\n",
    "                 .value_counts(normalize= True)\n",
    "age_div"
   ]
  },
  {
   "cell_type": "code",
   "execution_count": 110,
   "id": "45b23c16",
   "metadata": {},
   "outputs": [
    {
     "data": {
      "text/html": [
       "<div>\n",
       "<style scoped>\n",
       "    .dataframe tbody tr th:only-of-type {\n",
       "        vertical-align: middle;\n",
       "    }\n",
       "\n",
       "    .dataframe tbody tr th {\n",
       "        vertical-align: top;\n",
       "    }\n",
       "\n",
       "    .dataframe thead th {\n",
       "        text-align: right;\n",
       "    }\n",
       "</style>\n",
       "<table border=\"1\" class=\"dataframe\">\n",
       "  <thead>\n",
       "    <tr style=\"text-align: right;\">\n",
       "      <th></th>\n",
       "      <th>ageg</th>\n",
       "      <th>marriage</th>\n",
       "      <th>count</th>\n",
       "    </tr>\n",
       "  </thead>\n",
       "  <tbody>\n",
       "    <tr>\n",
       "      <th>0</th>\n",
       "      <td>middle</td>\n",
       "      <td>marriage</td>\n",
       "      <td>3879</td>\n",
       "    </tr>\n",
       "    <tr>\n",
       "      <th>1</th>\n",
       "      <td>middle</td>\n",
       "      <td>divorce</td>\n",
       "      <td>426</td>\n",
       "    </tr>\n",
       "    <tr>\n",
       "      <th>2</th>\n",
       "      <td>old</td>\n",
       "      <td>marriage</td>\n",
       "      <td>4052</td>\n",
       "    </tr>\n",
       "    <tr>\n",
       "      <th>3</th>\n",
       "      <td>old</td>\n",
       "      <td>divorce</td>\n",
       "      <td>440</td>\n",
       "    </tr>\n",
       "    <tr>\n",
       "      <th>4</th>\n",
       "      <td>young</td>\n",
       "      <td>marriage</td>\n",
       "      <td>176</td>\n",
       "    </tr>\n",
       "    <tr>\n",
       "      <th>5</th>\n",
       "      <td>young</td>\n",
       "      <td>divorce</td>\n",
       "      <td>6</td>\n",
       "    </tr>\n",
       "  </tbody>\n",
       "</table>\n",
       "</div>"
      ],
      "text/plain": [
       "     ageg  marriage  count\n",
       "0  middle  marriage   3879\n",
       "1  middle   divorce    426\n",
       "2     old  marriage   4052\n",
       "3     old   divorce    440\n",
       "4   young  marriage    176\n",
       "5   young   divorce      6"
      ]
     },
     "execution_count": 110,
     "metadata": {},
     "output_type": "execute_result"
    }
   ],
   "source": [
    "# 연령대 및 이혼 여부별 빈도 \n",
    "welfare.query('marriage != \"etc\"') \\\n",
    "       .groupby('ageg', as_index=False) \\\n",
    "       ['marriage'] \\\n",
    "       .value_counts()"
   ]
  },
  {
   "cell_type": "code",
   "execution_count": 111,
   "id": "05dfdd5e",
   "metadata": {},
   "outputs": [
    {
     "data": {
      "text/html": [
       "<div>\n",
       "<style scoped>\n",
       "    .dataframe tbody tr th:only-of-type {\n",
       "        vertical-align: middle;\n",
       "    }\n",
       "\n",
       "    .dataframe tbody tr th {\n",
       "        vertical-align: top;\n",
       "    }\n",
       "\n",
       "    .dataframe thead th {\n",
       "        text-align: right;\n",
       "    }\n",
       "</style>\n",
       "<table border=\"1\" class=\"dataframe\">\n",
       "  <thead>\n",
       "    <tr style=\"text-align: right;\">\n",
       "      <th></th>\n",
       "      <th>ageg</th>\n",
       "      <th>marriage</th>\n",
       "      <th>proportion</th>\n",
       "    </tr>\n",
       "  </thead>\n",
       "  <tbody>\n",
       "    <tr>\n",
       "      <th>1</th>\n",
       "      <td>middle</td>\n",
       "      <td>divorce</td>\n",
       "      <td>9.9</td>\n",
       "    </tr>\n",
       "    <tr>\n",
       "      <th>3</th>\n",
       "      <td>old</td>\n",
       "      <td>divorce</td>\n",
       "      <td>9.8</td>\n",
       "    </tr>\n",
       "  </tbody>\n",
       "</table>\n",
       "</div>"
      ],
      "text/plain": [
       "     ageg marriage  proportion\n",
       "1  middle  divorce         9.9\n",
       "3     old  divorce         9.8"
      ]
     },
     "execution_count": 111,
     "metadata": {},
     "output_type": "execute_result"
    }
   ],
   "source": [
    "# 연령대별 이혼율 그래프\n",
    "# 초년 제외, 이혼 추출 \n",
    "age_div = age_div.query('ageg != \"young\" & marriage == \"divorce\"') \\\n",
    "                 .assign(proportion = age_div['proportion'] * 100) \\\n",
    "                 .round(1)\n",
    "age_div"
   ]
  },
  {
   "cell_type": "code",
   "execution_count": 112,
   "id": "618772e8",
   "metadata": {},
   "outputs": [
    {
     "data": {
      "text/plain": [
       "<Axes: xlabel='ageg', ylabel='proportion'>"
      ]
     },
     "execution_count": 112,
     "metadata": {},
     "output_type": "execute_result"
    },
    {
     "data": {
      "image/png": "[encoded data removed]",
      "text/plain": [
       "<Figure size 640x480 with 1 Axes>"
      ]
     },
     "metadata": {},
     "output_type": "display_data"
    }
   ],
   "source": [
    "# 막대 그래프\n",
    "sns.barplot(data= age_div, x= \"ageg\", y= 'proportion')"
   ]
  },
  {
   "cell_type": "markdown",
   "id": "053c47b7",
   "metadata": {},
   "source": [
    "### 지역별 연령대 비율"
   ]
  },
  {
   "cell_type": "code",
   "execution_count": 113,
   "id": "f91c6d65",
   "metadata": {},
   "outputs": [
    {
     "data": {
      "text/plain": [
       "dtype('float64')"
      ]
     },
     "execution_count": 113,
     "metadata": {},
     "output_type": "execute_result"
    }
   ],
   "source": [
    "# 전처리\n",
    "welfare['code_region'].dtypes"
   ]
  },
  {
   "cell_type": "code",
   "execution_count": 114,
   "id": "7d99299d",
   "metadata": {},
   "outputs": [
    {
     "data": {
      "text/plain": [
       "code_region\n",
       "2.0    3524\n",
       "7.0    2875\n",
       "3.0    2743\n",
       "4.0    1895\n",
       "1.0    1849\n",
       "5.0    1688\n",
       "6.0    1357\n",
       "Name: count, dtype: int64"
      ]
     },
     "execution_count": 114,
     "metadata": {},
     "output_type": "execute_result"
    }
   ],
   "source": [
    "welfare['code_region'].value_counts() #지역코드 빈도수"
   ]
  },
  {
   "cell_type": "code",
   "execution_count": 115,
   "id": "1d2a64a9",
   "metadata": {},
   "outputs": [
    {
     "data": {
      "text/html": [
       "<div>\n",
       "<style scoped>\n",
       "    .dataframe tbody tr th:only-of-type {\n",
       "        vertical-align: middle;\n",
       "    }\n",
       "\n",
       "    .dataframe tbody tr th {\n",
       "        vertical-align: top;\n",
       "    }\n",
       "\n",
       "    .dataframe thead th {\n",
       "        text-align: right;\n",
       "    }\n",
       "</style>\n",
       "<table border=\"1\" class=\"dataframe\">\n",
       "  <thead>\n",
       "    <tr style=\"text-align: right;\">\n",
       "      <th></th>\n",
       "      <th>code_region</th>\n",
       "      <th>region</th>\n",
       "    </tr>\n",
       "  </thead>\n",
       "  <tbody>\n",
       "    <tr>\n",
       "      <th>0</th>\n",
       "      <td>1</td>\n",
       "      <td>서울</td>\n",
       "    </tr>\n",
       "    <tr>\n",
       "      <th>1</th>\n",
       "      <td>2</td>\n",
       "      <td>수도권(인천/경기)</td>\n",
       "    </tr>\n",
       "    <tr>\n",
       "      <th>2</th>\n",
       "      <td>3</td>\n",
       "      <td>부산/경남/울산</td>\n",
       "    </tr>\n",
       "    <tr>\n",
       "      <th>3</th>\n",
       "      <td>4</td>\n",
       "      <td>대구/경북</td>\n",
       "    </tr>\n",
       "    <tr>\n",
       "      <th>4</th>\n",
       "      <td>5</td>\n",
       "      <td>대전/충남</td>\n",
       "    </tr>\n",
       "    <tr>\n",
       "      <th>5</th>\n",
       "      <td>6</td>\n",
       "      <td>강원/충북</td>\n",
       "    </tr>\n",
       "    <tr>\n",
       "      <th>6</th>\n",
       "      <td>7</td>\n",
       "      <td>광주/전남/전북/제주도</td>\n",
       "    </tr>\n",
       "  </tbody>\n",
       "</table>\n",
       "</div>"
      ],
      "text/plain": [
       "   code_region        region\n",
       "0            1            서울\n",
       "1            2    수도권(인천/경기)\n",
       "2            3      부산/경남/울산\n",
       "3            4         대구/경북\n",
       "4            5         대전/충남\n",
       "5            6         강원/충북\n",
       "6            7  광주/전남/전북/제주도"
      ]
     },
     "execution_count": 115,
     "metadata": {},
     "output_type": "execute_result"
    }
   ],
   "source": [
    "list_region = pd.DataFrame({'code_region' : [1, 2, 3, 4, 5, 6, 7],\n",
    "                            'region' : ['서울',\n",
    "                                        '수도권(인천/경기)',\n",
    "                                        '부산/경남/울산',\n",
    "                                        '대구/경북',\n",
    "                                        '대전/충남',\n",
    "                                        '강원/충북',\n",
    "                                        '광주/전남/전북/제주도']})\n",
    "list_region"
   ]
  },
  {
   "cell_type": "code",
   "execution_count": 116,
   "id": "2329390a",
   "metadata": {},
   "outputs": [],
   "source": [
    "# 지역명 필드 추가 \n",
    "welfare = welfare.merge(list_region, how='left', on='code_region')"
   ]
  },
  {
   "cell_type": "code",
   "execution_count": 117,
   "id": "c678632f",
   "metadata": {},
   "outputs": [
    {
     "data": {
      "text/html": [
       "<div>\n",
       "<style scoped>\n",
       "    .dataframe tbody tr th:only-of-type {\n",
       "        vertical-align: middle;\n",
       "    }\n",
       "\n",
       "    .dataframe tbody tr th {\n",
       "        vertical-align: top;\n",
       "    }\n",
       "\n",
       "    .dataframe thead th {\n",
       "        text-align: right;\n",
       "    }\n",
       "</style>\n",
       "<table border=\"1\" class=\"dataframe\">\n",
       "  <thead>\n",
       "    <tr style=\"text-align: right;\">\n",
       "      <th></th>\n",
       "      <th>code_region</th>\n",
       "      <th>region</th>\n",
       "    </tr>\n",
       "  </thead>\n",
       "  <tbody>\n",
       "    <tr>\n",
       "      <th>0</th>\n",
       "      <td>1.0</td>\n",
       "      <td>서울</td>\n",
       "    </tr>\n",
       "    <tr>\n",
       "      <th>1</th>\n",
       "      <td>4.0</td>\n",
       "      <td>대구/경북</td>\n",
       "    </tr>\n",
       "    <tr>\n",
       "      <th>2</th>\n",
       "      <td>1.0</td>\n",
       "      <td>서울</td>\n",
       "    </tr>\n",
       "    <tr>\n",
       "      <th>3</th>\n",
       "      <td>1.0</td>\n",
       "      <td>서울</td>\n",
       "    </tr>\n",
       "    <tr>\n",
       "      <th>4</th>\n",
       "      <td>1.0</td>\n",
       "      <td>서울</td>\n",
       "    </tr>\n",
       "    <tr>\n",
       "      <th>5</th>\n",
       "      <td>1.0</td>\n",
       "      <td>서울</td>\n",
       "    </tr>\n",
       "    <tr>\n",
       "      <th>6</th>\n",
       "      <td>1.0</td>\n",
       "      <td>서울</td>\n",
       "    </tr>\n",
       "    <tr>\n",
       "      <th>7</th>\n",
       "      <td>1.0</td>\n",
       "      <td>서울</td>\n",
       "    </tr>\n",
       "    <tr>\n",
       "      <th>8</th>\n",
       "      <td>2.0</td>\n",
       "      <td>수도권(인천/경기)</td>\n",
       "    </tr>\n",
       "    <tr>\n",
       "      <th>9</th>\n",
       "      <td>1.0</td>\n",
       "      <td>서울</td>\n",
       "    </tr>\n",
       "  </tbody>\n",
       "</table>\n",
       "</div>"
      ],
      "text/plain": [
       "   code_region      region\n",
       "0          1.0          서울\n",
       "1          4.0       대구/경북\n",
       "2          1.0          서울\n",
       "3          1.0          서울\n",
       "4          1.0          서울\n",
       "5          1.0          서울\n",
       "6          1.0          서울\n",
       "7          1.0          서울\n",
       "8          2.0  수도권(인천/경기)\n",
       "9          1.0          서울"
      ]
     },
     "execution_count": 117,
     "metadata": {},
     "output_type": "execute_result"
    }
   ],
   "source": [
    "welfare[['code_region', 'region']].head(10)"
   ]
  },
  {
   "cell_type": "code",
   "execution_count": 118,
   "id": "1cae8116",
   "metadata": {},
   "outputs": [
    {
     "data": {
      "text/html": [
       "<div>\n",
       "<style scoped>\n",
       "    .dataframe tbody tr th:only-of-type {\n",
       "        vertical-align: middle;\n",
       "    }\n",
       "\n",
       "    .dataframe tbody tr th {\n",
       "        vertical-align: top;\n",
       "    }\n",
       "\n",
       "    .dataframe thead th {\n",
       "        text-align: right;\n",
       "    }\n",
       "</style>\n",
       "<table border=\"1\" class=\"dataframe\">\n",
       "  <thead>\n",
       "    <tr style=\"text-align: right;\">\n",
       "      <th></th>\n",
       "      <th>region</th>\n",
       "      <th>ageg</th>\n",
       "      <th>proportion</th>\n",
       "    </tr>\n",
       "  </thead>\n",
       "  <tbody>\n",
       "    <tr>\n",
       "      <th>0</th>\n",
       "      <td>강원/충북</td>\n",
       "      <td>old</td>\n",
       "      <td>0.509211</td>\n",
       "    </tr>\n",
       "    <tr>\n",
       "      <th>1</th>\n",
       "      <td>강원/충북</td>\n",
       "      <td>middle</td>\n",
       "      <td>0.300663</td>\n",
       "    </tr>\n",
       "    <tr>\n",
       "      <th>2</th>\n",
       "      <td>강원/충북</td>\n",
       "      <td>young</td>\n",
       "      <td>0.190125</td>\n",
       "    </tr>\n",
       "    <tr>\n",
       "      <th>3</th>\n",
       "      <td>광주/전남/전북/제주도</td>\n",
       "      <td>old</td>\n",
       "      <td>0.484522</td>\n",
       "    </tr>\n",
       "    <tr>\n",
       "      <th>4</th>\n",
       "      <td>광주/전남/전북/제주도</td>\n",
       "      <td>middle</td>\n",
       "      <td>0.301913</td>\n",
       "    </tr>\n",
       "    <tr>\n",
       "      <th>5</th>\n",
       "      <td>광주/전남/전북/제주도</td>\n",
       "      <td>young</td>\n",
       "      <td>0.213565</td>\n",
       "    </tr>\n",
       "    <tr>\n",
       "      <th>6</th>\n",
       "      <td>대구/경북</td>\n",
       "      <td>old</td>\n",
       "      <td>0.518206</td>\n",
       "    </tr>\n",
       "    <tr>\n",
       "      <th>7</th>\n",
       "      <td>대구/경북</td>\n",
       "      <td>middle</td>\n",
       "      <td>0.304485</td>\n",
       "    </tr>\n",
       "    <tr>\n",
       "      <th>8</th>\n",
       "      <td>대구/경북</td>\n",
       "      <td>young</td>\n",
       "      <td>0.177309</td>\n",
       "    </tr>\n",
       "    <tr>\n",
       "      <th>9</th>\n",
       "      <td>대전/충남</td>\n",
       "      <td>old</td>\n",
       "      <td>0.457938</td>\n",
       "    </tr>\n",
       "    <tr>\n",
       "      <th>10</th>\n",
       "      <td>대전/충남</td>\n",
       "      <td>middle</td>\n",
       "      <td>0.320498</td>\n",
       "    </tr>\n",
       "    <tr>\n",
       "      <th>11</th>\n",
       "      <td>대전/충남</td>\n",
       "      <td>young</td>\n",
       "      <td>0.221564</td>\n",
       "    </tr>\n",
       "    <tr>\n",
       "      <th>12</th>\n",
       "      <td>부산/경남/울산</td>\n",
       "      <td>old</td>\n",
       "      <td>0.435654</td>\n",
       "    </tr>\n",
       "    <tr>\n",
       "      <th>13</th>\n",
       "      <td>부산/경남/울산</td>\n",
       "      <td>middle</td>\n",
       "      <td>0.334306</td>\n",
       "    </tr>\n",
       "    <tr>\n",
       "      <th>14</th>\n",
       "      <td>부산/경남/울산</td>\n",
       "      <td>young</td>\n",
       "      <td>0.230040</td>\n",
       "    </tr>\n",
       "    <tr>\n",
       "      <th>15</th>\n",
       "      <td>서울</td>\n",
       "      <td>old</td>\n",
       "      <td>0.395349</td>\n",
       "    </tr>\n",
       "    <tr>\n",
       "      <th>16</th>\n",
       "      <td>서울</td>\n",
       "      <td>middle</td>\n",
       "      <td>0.367766</td>\n",
       "    </tr>\n",
       "    <tr>\n",
       "      <th>17</th>\n",
       "      <td>서울</td>\n",
       "      <td>young</td>\n",
       "      <td>0.236885</td>\n",
       "    </tr>\n",
       "    <tr>\n",
       "      <th>18</th>\n",
       "      <td>수도권(인천/경기)</td>\n",
       "      <td>middle</td>\n",
       "      <td>0.382520</td>\n",
       "    </tr>\n",
       "    <tr>\n",
       "      <th>19</th>\n",
       "      <td>수도권(인천/경기)</td>\n",
       "      <td>old</td>\n",
       "      <td>0.326050</td>\n",
       "    </tr>\n",
       "    <tr>\n",
       "      <th>20</th>\n",
       "      <td>수도권(인천/경기)</td>\n",
       "      <td>young</td>\n",
       "      <td>0.291430</td>\n",
       "    </tr>\n",
       "  </tbody>\n",
       "</table>\n",
       "</div>"
      ],
      "text/plain": [
       "          region    ageg  proportion\n",
       "0          강원/충북     old    0.509211\n",
       "1          강원/충북  middle    0.300663\n",
       "2          강원/충북   young    0.190125\n",
       "3   광주/전남/전북/제주도     old    0.484522\n",
       "4   광주/전남/전북/제주도  middle    0.301913\n",
       "5   광주/전남/전북/제주도   young    0.213565\n",
       "6          대구/경북     old    0.518206\n",
       "7          대구/경북  middle    0.304485\n",
       "8          대구/경북   young    0.177309\n",
       "9          대전/충남     old    0.457938\n",
       "10         대전/충남  middle    0.320498\n",
       "11         대전/충남   young    0.221564\n",
       "12      부산/경남/울산     old    0.435654\n",
       "13      부산/경남/울산  middle    0.334306\n",
       "14      부산/경남/울산   young    0.230040\n",
       "15            서울     old    0.395349\n",
       "16            서울  middle    0.367766\n",
       "17            서울   young    0.236885\n",
       "18    수도권(인천/경기)  middle    0.382520\n",
       "19    수도권(인천/경기)     old    0.326050\n",
       "20    수도권(인천/경기)   young    0.291430"
      ]
     },
     "execution_count": 118,
     "metadata": {},
     "output_type": "execute_result"
    }
   ],
   "source": [
    "# 지역별 연령대 비율표\n",
    "# 1. region 별 분류 \n",
    "# 2. ageg 추출 \n",
    "# 3. 비율 구하기 \n",
    "\n",
    "region_ageg = welfare.groupby('region', as_index= False) \\\n",
    "                        ['ageg'] \\\n",
    "                        .value_counts(normalize=True)\n",
    "region_ageg\n"
   ]
  },
  {
   "cell_type": "code",
   "execution_count": 119,
   "id": "776db518",
   "metadata": {},
   "outputs": [
    {
     "data": {
      "text/plain": [
       "<Axes: xlabel='proportion', ylabel='region'>"
      ]
     },
     "execution_count": 119,
     "metadata": {},
     "output_type": "execute_result"
    },
    {
     "data": {
      "image/png": "[encoded data removed]",
      "text/plain": [
       "<Figure size 640x480 with 1 Axes>"
      ]
     },
     "metadata": {},
     "output_type": "display_data"
    }
   ],
   "source": [
    "# 시각화\n",
    "sns.barplot(data= region_ageg, y='region', x='proportion', hue = 'ageg')"
   ]
  },
  {
   "cell_type": "code",
   "execution_count": 120,
   "id": "d4e28147",
   "metadata": {},
   "outputs": [
    {
     "data": {
      "text/html": [
       "<div>\n",
       "<style scoped>\n",
       "    .dataframe tbody tr th:only-of-type {\n",
       "        vertical-align: middle;\n",
       "    }\n",
       "\n",
       "    .dataframe tbody tr th {\n",
       "        vertical-align: top;\n",
       "    }\n",
       "\n",
       "    .dataframe thead th {\n",
       "        text-align: right;\n",
       "    }\n",
       "</style>\n",
       "<table border=\"1\" class=\"dataframe\">\n",
       "  <thead>\n",
       "    <tr style=\"text-align: right;\">\n",
       "      <th>ageg</th>\n",
       "      <th>middle</th>\n",
       "      <th>old</th>\n",
       "      <th>young</th>\n",
       "    </tr>\n",
       "    <tr>\n",
       "      <th>region</th>\n",
       "      <th></th>\n",
       "      <th></th>\n",
       "      <th></th>\n",
       "    </tr>\n",
       "  </thead>\n",
       "  <tbody>\n",
       "    <tr>\n",
       "      <th>강원/충북</th>\n",
       "      <td>0.300663</td>\n",
       "      <td>0.509211</td>\n",
       "      <td>0.190125</td>\n",
       "    </tr>\n",
       "    <tr>\n",
       "      <th>광주/전남/전북/제주도</th>\n",
       "      <td>0.301913</td>\n",
       "      <td>0.484522</td>\n",
       "      <td>0.213565</td>\n",
       "    </tr>\n",
       "    <tr>\n",
       "      <th>대구/경북</th>\n",
       "      <td>0.304485</td>\n",
       "      <td>0.518206</td>\n",
       "      <td>0.177309</td>\n",
       "    </tr>\n",
       "    <tr>\n",
       "      <th>대전/충남</th>\n",
       "      <td>0.320498</td>\n",
       "      <td>0.457938</td>\n",
       "      <td>0.221564</td>\n",
       "    </tr>\n",
       "    <tr>\n",
       "      <th>부산/경남/울산</th>\n",
       "      <td>0.334306</td>\n",
       "      <td>0.435654</td>\n",
       "      <td>0.230040</td>\n",
       "    </tr>\n",
       "    <tr>\n",
       "      <th>서울</th>\n",
       "      <td>0.367766</td>\n",
       "      <td>0.395349</td>\n",
       "      <td>0.236885</td>\n",
       "    </tr>\n",
       "    <tr>\n",
       "      <th>수도권(인천/경기)</th>\n",
       "      <td>0.382520</td>\n",
       "      <td>0.326050</td>\n",
       "      <td>0.291430</td>\n",
       "    </tr>\n",
       "  </tbody>\n",
       "</table>\n",
       "</div>"
      ],
      "text/plain": [
       "ageg            middle       old     young\n",
       "region                                    \n",
       "강원/충북         0.300663  0.509211  0.190125\n",
       "광주/전남/전북/제주도  0.301913  0.484522  0.213565\n",
       "대구/경북         0.304485  0.518206  0.177309\n",
       "대전/충남         0.320498  0.457938  0.221564\n",
       "부산/경남/울산      0.334306  0.435654  0.230040\n",
       "서울            0.367766  0.395349  0.236885\n",
       "수도권(인천/경기)    0.382520  0.326050  0.291430"
      ]
     },
     "execution_count": 120,
     "metadata": {},
     "output_type": "execute_result"
    }
   ],
   "source": [
    "# 지역끼리 비교하기 쉽도록 연령대별 막대를 누적한 '누적 비율 막대 그래프 생성'\n",
    "\n",
    "# 피벗 : 행과 열을 회전해 표의 구성을 바꾸는 작업 \n",
    "pivot_df = \\\n",
    "    region_ageg[['region','ageg','proportion']].pivot(index = 'region', \n",
    "                                                      columns = 'ageg', \n",
    "                                                      values = 'proportion')\n",
    "\n",
    "pivot_df"
   ]
  },
  {
   "cell_type": "code",
   "execution_count": 121,
   "id": "2b6c33a2",
   "metadata": {},
   "outputs": [
    {
     "data": {
      "text/plain": [
       "<Axes: ylabel='region'>"
      ]
     },
     "execution_count": 121,
     "metadata": {},
     "output_type": "execute_result"
    },
    {
     "data": {
      "image/png": "[encoded data removed]",
      "text/plain": [
       "<Figure size 640x480 with 1 Axes>"
      ]
     },
     "metadata": {},
     "output_type": "display_data"
    }
   ],
   "source": [
    "# 가로 막대 회전 시각화 \n",
    "pivot_df.plot.barh(stacked = True)"
   ]
  },
  {
   "cell_type": "code",
   "execution_count": 122,
   "id": "9a471b02",
   "metadata": {},
   "outputs": [
    {
     "data": {
      "text/html": [
       "<div>\n",
       "<style scoped>\n",
       "    .dataframe tbody tr th:only-of-type {\n",
       "        vertical-align: middle;\n",
       "    }\n",
       "\n",
       "    .dataframe tbody tr th {\n",
       "        vertical-align: top;\n",
       "    }\n",
       "\n",
       "    .dataframe thead th {\n",
       "        text-align: right;\n",
       "    }\n",
       "</style>\n",
       "<table border=\"1\" class=\"dataframe\">\n",
       "  <thead>\n",
       "    <tr style=\"text-align: right;\">\n",
       "      <th>ageg</th>\n",
       "      <th>young</th>\n",
       "      <th>middle</th>\n",
       "      <th>old</th>\n",
       "    </tr>\n",
       "    <tr>\n",
       "      <th>region</th>\n",
       "      <th></th>\n",
       "      <th></th>\n",
       "      <th></th>\n",
       "    </tr>\n",
       "  </thead>\n",
       "  <tbody>\n",
       "    <tr>\n",
       "      <th>수도권(인천/경기)</th>\n",
       "      <td>0.291430</td>\n",
       "      <td>0.382520</td>\n",
       "      <td>0.326050</td>\n",
       "    </tr>\n",
       "    <tr>\n",
       "      <th>서울</th>\n",
       "      <td>0.236885</td>\n",
       "      <td>0.367766</td>\n",
       "      <td>0.395349</td>\n",
       "    </tr>\n",
       "    <tr>\n",
       "      <th>부산/경남/울산</th>\n",
       "      <td>0.230040</td>\n",
       "      <td>0.334306</td>\n",
       "      <td>0.435654</td>\n",
       "    </tr>\n",
       "    <tr>\n",
       "      <th>대전/충남</th>\n",
       "      <td>0.221564</td>\n",
       "      <td>0.320498</td>\n",
       "      <td>0.457938</td>\n",
       "    </tr>\n",
       "    <tr>\n",
       "      <th>광주/전남/전북/제주도</th>\n",
       "      <td>0.213565</td>\n",
       "      <td>0.301913</td>\n",
       "      <td>0.484522</td>\n",
       "    </tr>\n",
       "    <tr>\n",
       "      <th>강원/충북</th>\n",
       "      <td>0.190125</td>\n",
       "      <td>0.300663</td>\n",
       "      <td>0.509211</td>\n",
       "    </tr>\n",
       "    <tr>\n",
       "      <th>대구/경북</th>\n",
       "      <td>0.177309</td>\n",
       "      <td>0.304485</td>\n",
       "      <td>0.518206</td>\n",
       "    </tr>\n",
       "  </tbody>\n",
       "</table>\n",
       "</div>"
      ],
      "text/plain": [
       "ageg             young    middle       old\n",
       "region                                    \n",
       "수도권(인천/경기)    0.291430  0.382520  0.326050\n",
       "서울            0.236885  0.367766  0.395349\n",
       "부산/경남/울산      0.230040  0.334306  0.435654\n",
       "대전/충남         0.221564  0.320498  0.457938\n",
       "광주/전남/전북/제주도  0.213565  0.301913  0.484522\n",
       "강원/충북         0.190125  0.300663  0.509211\n",
       "대구/경북         0.177309  0.304485  0.518206"
      ]
     },
     "execution_count": 122,
     "metadata": {},
     "output_type": "execute_result"
    }
   ],
   "source": [
    "# 막대 정렬\n",
    "# 노년층 기준 정렬, 변수 순서 바꾸기 \n",
    "\n",
    "reorder_df = pivot_df.sort_values('old')[['young', 'middle', 'old']]\n",
    "reorder_df "
   ]
  },
  {
   "cell_type": "code",
   "execution_count": 123,
   "id": "9b17cf1c",
   "metadata": {},
   "outputs": [
    {
     "data": {
      "text/plain": [
       "<Axes: ylabel='region'>"
      ]
     },
     "execution_count": 123,
     "metadata": {},
     "output_type": "execute_result"
    },
    {
     "data": {
      "image/png": "[encoded data removed]",
      "text/plain": [
       "<Figure size 640x480 with 1 Axes>"
      ]
     },
     "metadata": {},
     "output_type": "display_data"
    }
   ],
   "source": [
    "# 누적 가로 막대 회전 시각화 \n",
    "reorder_df.plot.barh(stacked = True)"
   ]
  }
 ],
 "metadata": {
  "kernelspec": {
   "display_name": "Python 3 (ipykernel)",
   "language": "python",
   "name": "python3"
  },
  "language_info": {
   "codemirror_mode": {
    "name": "ipython",
    "version": 3
   },
   "file_extension": ".py",
   "mimetype": "text/x-python",
   "name": "python",
   "nbconvert_exporter": "python",
   "pygments_lexer": "ipython3",
   "version": "3.12.4"
  }
 },
 "nbformat": 4,
 "nbformat_minor": 5
}
